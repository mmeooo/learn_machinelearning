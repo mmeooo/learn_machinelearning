{
  "nbformat": 4,
  "nbformat_minor": 0,
  "metadata": {
    "kernelspec": {
      "language": "python",
      "display_name": "Python 3",
      "name": "python3"
    },
    "language_info": {
      "pygments_lexer": "ipython3",
      "nbconvert_exporter": "python",
      "version": "3.6.4",
      "file_extension": ".py",
      "codemirror_mode": {
        "name": "ipython",
        "version": 3
      },
      "name": "python",
      "mimetype": "text/x-python"
    },
    "colab": {
      "name": "test-titanicfromdisaster2.ipynb",
      "provenance": []
    }
  },
  "cells": [
    {
      "cell_type": "code",
      "metadata": {
        "_uuid": "8f2839f25d086af736a60e9eeb907d3b93b6e0e5",
        "_cell_guid": "b1076dfc-b9ad-4769-8c92-a6c4dae69d19",
        "execution": {
          "iopub.status.busy": "2021-07-08T01:24:03.619491Z",
          "iopub.execute_input": "2021-07-08T01:24:03.619978Z",
          "iopub.status.idle": "2021-07-08T01:24:03.635464Z",
          "shell.execute_reply.started": "2021-07-08T01:24:03.619869Z",
          "shell.execute_reply": "2021-07-08T01:24:03.634293Z"
        },
        "trusted": true,
        "id": "DGjizWnkFty1"
      },
      "source": [
        "# This Python 3 environment comes with many helpful analytics libraries installed\n",
        "# It is defined by the kaggle/python Docker image: https://github.com/kaggle/docker-python\n",
        "# For example, here's several helpful packages to load\n",
        "\n",
        "import numpy as np # linear algebra\n",
        "import pandas as pd # data processing, CSV file I/O (e.g. pd.read_csv)\n",
        "\n",
        "# Input data files are available in the read-only \"../input/\" directory\n",
        "# For example, running this (by clicking run or pressing Shift+Enter) will list all files under the input directory\n",
        "\n",
        "import os\n",
        "for dirname, _, filenames in os.walk('/kaggle/input'):\n",
        "    for filename in filenames:\n",
        "        print(os.path.join(dirname, filename))\n",
        "\n",
        "# You can write up to 20GB to the current directory (/kaggle/working/) that gets preserved as output when you create a version using \"Save & Run All\" \n",
        "# You can also write temporary files to /kaggle/temp/, but they won't be saved outside of the current session"
      ],
      "execution_count": null,
      "outputs": []
    },
    {
      "cell_type": "code",
      "metadata": {
        "id": "5OaKHq7lFty7"
      },
      "source": [
        "# df.describe(include= 'all')\n",
        "# 입력한 모든 열이 데이터 출력으로 포함된다\n",
        "# df = df[['Survived', 'Pclass', 'Sex', 'Age', 'SibSp', 'Parch', 'Fare', 'Cabin', 'Embarked']]\n",
        "# df.info()\n",
        "# age, cabin, embark는 데이터가 비어있다"
      ],
      "execution_count": null,
      "outputs": []
    },
    {
      "cell_type": "code",
      "metadata": {
        "execution": {
          "iopub.status.busy": "2021-07-08T01:24:05.500843Z",
          "iopub.execute_input": "2021-07-08T01:24:05.501245Z",
          "iopub.status.idle": "2021-07-08T01:24:05.545818Z",
          "shell.execute_reply.started": "2021-07-08T01:24:05.501212Z",
          "shell.execute_reply": "2021-07-08T01:24:05.544746Z"
        },
        "trusted": true,
        "id": "qXXAzCNxFty9"
      },
      "source": [
        "df= pd.read_csv('/kaggle/input/titanic/train.csv')\n",
        "df= df[['Fare', 'Sex', 'SibSp', 'Pclass', 'Survived']]\n",
        "# 컬럼 골라내기\n",
        "df_train= pd.get_dummies(df, columns= [ 'Sex', 'SibSp', 'Pclass'])\n",
        "# train 데이터 만들기"
      ],
      "execution_count": null,
      "outputs": []
    },
    {
      "cell_type": "code",
      "metadata": {
        "execution": {
          "iopub.status.busy": "2021-07-08T01:24:07.889046Z",
          "iopub.execute_input": "2021-07-08T01:24:07.889511Z",
          "iopub.status.idle": "2021-07-08T01:24:07.89776Z",
          "shell.execute_reply.started": "2021-07-08T01:24:07.88947Z",
          "shell.execute_reply": "2021-07-08T01:24:07.896524Z"
        },
        "trusted": true,
        "id": "2rndJFKgFty-"
      },
      "source": [
        "Y= df_train['Survived']\n",
        "X= df_train.drop(['Survived'], axis= 'columns') \n",
        "# X는 survived 컬럼만 제외. 행?열? 어떤 걸 drop하는지 정해야 함\n",
        "# X,Y 나누기"
      ],
      "execution_count": null,
      "outputs": []
    },
    {
      "cell_type": "code",
      "metadata": {
        "execution": {
          "iopub.status.busy": "2021-07-08T01:24:09.123993Z",
          "iopub.execute_input": "2021-07-08T01:24:09.124405Z",
          "iopub.status.idle": "2021-07-08T01:24:10.067865Z",
          "shell.execute_reply.started": "2021-07-08T01:24:09.124352Z",
          "shell.execute_reply": "2021-07-08T01:24:10.066804Z"
        },
        "trusted": true,
        "id": "6noPb67TFty_"
      },
      "source": [
        "from sklearn import preprocessing\n",
        "# 데이터 전처리 \n",
        "scaler= preprocessing.StandardScaler()\n",
        "scaler.fit(X)\n",
        "# 데이터는 버리고 패턴만 남는다 \n",
        "# fit(): 평균 𝜇과 표준편차 𝜎를 계산\n",
        "X= scaler.transform(X)\n",
        "# 새로운 데이터를 넣는다\n",
        "# transform(): 정규화"
      ],
      "execution_count": null,
      "outputs": []
    },
    {
      "cell_type": "code",
      "metadata": {
        "execution": {
          "iopub.status.busy": "2021-07-08T01:24:15.0294Z",
          "iopub.execute_input": "2021-07-08T01:24:15.029831Z",
          "iopub.status.idle": "2021-07-08T01:24:15.100017Z",
          "shell.execute_reply.started": "2021-07-08T01:24:15.029787Z",
          "shell.execute_reply": "2021-07-08T01:24:15.098825Z"
        },
        "trusted": true,
        "id": "Pe4GcxlEFtzA"
      },
      "source": [
        "from sklearn.model_selection import train_test_split\n",
        "x_train, x_test, y_train, y_test= train_test_split(X, Y)\n",
        "# train, test 데이터 나누기. train 668개, test 223개"
      ],
      "execution_count": null,
      "outputs": []
    },
    {
      "cell_type": "code",
      "metadata": {
        "execution": {
          "iopub.status.busy": "2021-07-08T01:24:16.174707Z",
          "iopub.execute_input": "2021-07-08T01:24:16.175159Z",
          "iopub.status.idle": "2021-07-08T01:24:16.381826Z",
          "shell.execute_reply.started": "2021-07-08T01:24:16.17512Z",
          "shell.execute_reply": "2021-07-08T01:24:16.380759Z"
        },
        "trusted": true,
        "id": "ub7q2nODFtzA"
      },
      "source": [
        "import xgboost\n",
        "xgb= xgboost.XGBClassifier()\n",
        "xgb.fit(x_train, y_train)\n",
        "xgb.score(x_train, y_train)\n",
        "# 학습시키기\n",
        "# train 데이터 결과"
      ],
      "execution_count": null,
      "outputs": []
    },
    {
      "cell_type": "code",
      "metadata": {
        "execution": {
          "iopub.status.busy": "2021-07-08T01:24:36.53898Z",
          "iopub.execute_input": "2021-07-08T01:24:36.539687Z",
          "iopub.status.idle": "2021-07-08T01:24:36.553492Z",
          "shell.execute_reply.started": "2021-07-08T01:24:36.539623Z",
          "shell.execute_reply": "2021-07-08T01:24:36.552242Z"
        },
        "trusted": true,
        "id": "5QN3sofvFtzB"
      },
      "source": [
        "xgb.score(x_test, y_test)\n",
        "# test 데이터 결과\n",
        "# 값 차이가 크다-> 쓸 수 없는 모델.."
      ],
      "execution_count": null,
      "outputs": []
    },
    {
      "cell_type": "code",
      "metadata": {
        "execution": {
          "iopub.status.busy": "2021-07-08T01:24:46.0397Z",
          "iopub.execute_input": "2021-07-08T01:24:46.040331Z",
          "iopub.status.idle": "2021-07-08T01:24:46.075655Z",
          "shell.execute_reply.started": "2021-07-08T01:24:46.040277Z",
          "shell.execute_reply": "2021-07-08T01:24:46.074526Z"
        },
        "trusted": true,
        "id": "McS8g6ofFtzD"
      },
      "source": [
        "df_ = pd.read_csv('/kaggle/input/titanic/test.csv')\n",
        "df_.head(3)\n",
        "# 'survived'가 빠진 데이터-> 정답이 없는 데이터-> 학습시켜야 함"
      ],
      "execution_count": null,
      "outputs": []
    },
    {
      "cell_type": "code",
      "metadata": {
        "execution": {
          "iopub.status.busy": "2021-07-08T01:24:49.782039Z",
          "iopub.execute_input": "2021-07-08T01:24:49.78255Z",
          "iopub.status.idle": "2021-07-08T01:24:49.805709Z",
          "shell.execute_reply.started": "2021-07-08T01:24:49.782497Z",
          "shell.execute_reply": "2021-07-08T01:24:49.804556Z"
        },
        "trusted": true,
        "id": "TY59DWOgFtzE"
      },
      "source": [
        "df_ = df_[['Fare', 'Sex', 'SibSp', 'Pclass']]\n",
        "# 컬럼 골라내기\n",
        "df_test = pd.get_dummies(df_, columns= ['Sex', 'SibSp', 'Pclass'])\n",
        "# test 데이터 만들기. 분류형 변수들\n",
        "df_test.head(3)"
      ],
      "execution_count": null,
      "outputs": []
    },
    {
      "cell_type": "code",
      "metadata": {
        "id": "x_uloLa2FtzE"
      },
      "source": [
        ""
      ],
      "execution_count": null,
      "outputs": []
    },
    {
      "cell_type": "code",
      "metadata": {
        "execution": {
          "iopub.status.busy": "2021-07-08T01:24:53.716924Z",
          "iopub.execute_input": "2021-07-08T01:24:53.717445Z",
          "iopub.status.idle": "2021-07-08T01:24:53.745225Z",
          "shell.execute_reply.started": "2021-07-08T01:24:53.717395Z",
          "shell.execute_reply": "2021-07-08T01:24:53.743975Z"
        },
        "trusted": true,
        "id": "3cF6XHmfFtzF"
      },
      "source": [
        "X_TEST= scaler.transform(df_test)\n",
        "y_pred= xgb.predict(X_TEST)\n",
        "y_pred.shape"
      ],
      "execution_count": null,
      "outputs": []
    },
    {
      "cell_type": "code",
      "metadata": {
        "execution": {
          "iopub.status.busy": "2021-07-08T01:25:07.292242Z",
          "iopub.execute_input": "2021-07-08T01:25:07.292779Z",
          "iopub.status.idle": "2021-07-08T01:25:07.315483Z",
          "shell.execute_reply.started": "2021-07-08T01:25:07.29273Z",
          "shell.execute_reply": "2021-07-08T01:25:07.314186Z"
        },
        "trusted": true,
        "id": "rccrjEUHFtzF"
      },
      "source": [
        "df_submit= pd.read_csv('/kaggle/input/titanic/gender_submission.csv')\n",
        "df_submit.head(3)"
      ],
      "execution_count": null,
      "outputs": []
    },
    {
      "cell_type": "code",
      "metadata": {
        "execution": {
          "iopub.status.busy": "2021-07-08T01:25:08.51981Z",
          "iopub.execute_input": "2021-07-08T01:25:08.520254Z",
          "iopub.status.idle": "2021-07-08T01:25:08.530137Z",
          "shell.execute_reply.started": "2021-07-08T01:25:08.520213Z",
          "shell.execute_reply": "2021-07-08T01:25:08.528716Z"
        },
        "trusted": true,
        "id": "SPOyxCfGFtzG"
      },
      "source": [
        "df_submit['Survived']= y_pred\n",
        "df_submit.to_csv('my_submission.csv', index= False)"
      ],
      "execution_count": null,
      "outputs": []
    },
    {
      "cell_type": "code",
      "metadata": {
        "id": "vDJ9qjK7FtzG"
      },
      "source": [
        ""
      ],
      "execution_count": null,
      "outputs": []
    }
  ]
}