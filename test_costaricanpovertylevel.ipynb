{
  "nbformat": 4,
  "nbformat_minor": 0,
  "metadata": {
    "kernelspec": {
      "language": "python",
      "display_name": "Python 3",
      "name": "python3"
    },
    "language_info": {
      "name": "python",
      "version": "3.7.10",
      "mimetype": "text/x-python",
      "codemirror_mode": {
        "name": "ipython",
        "version": 3
      },
      "pygments_lexer": "ipython3",
      "nbconvert_exporter": "python",
      "file_extension": ".py"
    },
    "colab": {
      "name": "test-costaricanpovertylevel.ipynb",
      "provenance": []
    }
  },
  "cells": [
    {
      "cell_type": "code",
      "metadata": {
        "_uuid": "8f2839f25d086af736a60e9eeb907d3b93b6e0e5",
        "_cell_guid": "b1076dfc-b9ad-4769-8c92-a6c4dae69d19",
        "execution": {
          "iopub.status.busy": "2021-07-09T00:57:24.969183Z",
          "iopub.execute_input": "2021-07-09T00:57:24.969793Z",
          "iopub.status.idle": "2021-07-09T00:57:24.986594Z",
          "shell.execute_reply.started": "2021-07-09T00:57:24.969671Z",
          "shell.execute_reply": "2021-07-09T00:57:24.985489Z"
        },
        "trusted": true,
        "id": "5gX1WUSgDti2",
        "outputId": "2d41a9de-9b01-479c-e070-17143d9da20b"
      },
      "source": [
        "# This Python 3 environment comes with many helpful analytics libraries installed\n",
        "# It is defined by the kaggle/python Docker image: https://github.com/kaggle/docker-python\n",
        "# For example, here's several helpful packages to load\n",
        "\n",
        "import numpy as np # linear algebra\n",
        "import pandas as pd # data processing, CSV file I/O (e.g. pd.read_csv)\n",
        "\n",
        "# Input data files are available in the read-only \"../input/\" directory\n",
        "# For example, running this (by clicking run or pressing Shift+Enter) will list all files under the input directory\n",
        "\n",
        "import os\n",
        "for dirname, _, filenames in os.walk('/kaggle/input'):\n",
        "    for filename in filenames:\n",
        "        print(os.path.join(dirname, filename))\n",
        "\n",
        "# You can write up to 20GB to the current directory (/kaggle/working/) that gets preserved as output when you create a version using \"Save & Run All\" \n",
        "# You can also write temporary files to /kaggle/temp/, but they won't be saved outside of the current session"
      ],
      "execution_count": null,
      "outputs": [
        {
          "output_type": "stream",
          "text": [
            "/kaggle/input/costa-rican-household-poverty-prediction/sample_submission.csv\n",
            "/kaggle/input/costa-rican-household-poverty-prediction/codebook.csv\n",
            "/kaggle/input/costa-rican-household-poverty-prediction/train.csv.zip\n",
            "/kaggle/input/costa-rican-household-poverty-prediction/sample_submission.csv.zip\n",
            "/kaggle/input/costa-rican-household-poverty-prediction/codebook.xlsx\n",
            "/kaggle/input/costa-rican-household-poverty-prediction/train.csv\n",
            "/kaggle/input/costa-rican-household-poverty-prediction/test.csv\n",
            "/kaggle/input/costa-rican-household-poverty-prediction/test.csv.zip\n"
          ],
          "name": "stdout"
        }
      ]
    },
    {
      "cell_type": "code",
      "metadata": {
        "execution": {
          "iopub.status.busy": "2021-07-09T00:57:24.988038Z",
          "iopub.execute_input": "2021-07-09T00:57:24.988637Z",
          "iopub.status.idle": "2021-07-09T00:57:24.993847Z",
          "shell.execute_reply.started": "2021-07-09T00:57:24.988595Z",
          "shell.execute_reply": "2021-07-09T00:57:24.992643Z"
        },
        "trusted": true,
        "id": "dtK_EQd9DtjH"
      },
      "source": [
        "# pd.set_option('display.max_rows', None)\n",
        "# pd.set_option('display.max_columns', None) \n",
        "# # 말줄임표 대신 값이 다 보이게 함"
      ],
      "execution_count": null,
      "outputs": []
    },
    {
      "cell_type": "markdown",
      "metadata": {
        "id": "ehcN74FuDtjK"
      },
      "source": [
        "## 데이터 단계"
      ]
    },
    {
      "cell_type": "code",
      "metadata": {
        "execution": {
          "iopub.status.busy": "2021-07-09T00:57:24.995477Z",
          "iopub.execute_input": "2021-07-09T00:57:24.995822Z",
          "iopub.status.idle": "2021-07-09T00:57:25.645800Z",
          "shell.execute_reply.started": "2021-07-09T00:57:24.995767Z",
          "shell.execute_reply": "2021-07-09T00:57:25.644832Z"
        },
        "trusted": true,
        "id": "bOQ49IDJDtjL",
        "outputId": "325cd5b7-b0e4-43f5-d841-1f217a8abaf3"
      },
      "source": [
        "train= pd.read_csv('/kaggle/input/costa-rican-household-poverty-prediction/train.csv')\n",
        "test= pd.read_csv('/kaggle/input/costa-rican-household-poverty-prediction/test.csv')\n",
        "train.shape, test.shape"
      ],
      "execution_count": null,
      "outputs": [
        {
          "output_type": "execute_result",
          "data": {
            "text/plain": [
              "((9557, 143), (23856, 142))"
            ]
          },
          "metadata": {
            "tags": []
          },
          "execution_count": 3
        }
      ]
    },
    {
      "cell_type": "code",
      "metadata": {
        "execution": {
          "iopub.status.busy": "2021-07-09T00:57:25.647275Z",
          "iopub.execute_input": "2021-07-09T00:57:25.647572Z",
          "iopub.status.idle": "2021-07-09T00:57:26.046838Z",
          "shell.execute_reply.started": "2021-07-09T00:57:25.647542Z",
          "shell.execute_reply": "2021-07-09T00:57:26.046054Z"
        },
        "trusted": true,
        "id": "uyviQxFLDtjT",
        "outputId": "2598f94c-eb6e-496f-c565-3a86319d0a16"
      },
      "source": [
        "train.describe(include='all')"
      ],
      "execution_count": null,
      "outputs": [
        {
          "output_type": "execute_result",
          "data": {
            "text/plain": [
              "                  Id          v2a1       hacdor        rooms       hacapo  \\\n",
              "count           9557  2.697000e+03  9557.000000  9557.000000  9557.000000   \n",
              "unique          9557           NaN          NaN          NaN          NaN   \n",
              "top     ID_ef5ba3988           NaN          NaN          NaN          NaN   \n",
              "freq               1           NaN          NaN          NaN          NaN   \n",
              "mean             NaN  1.652316e+05     0.038087     4.955530     0.023648   \n",
              "std              NaN  1.504571e+05     0.191417     1.468381     0.151957   \n",
              "min              NaN  0.000000e+00     0.000000     1.000000     0.000000   \n",
              "25%              NaN  8.000000e+04     0.000000     4.000000     0.000000   \n",
              "50%              NaN  1.300000e+05     0.000000     5.000000     0.000000   \n",
              "75%              NaN  2.000000e+05     0.000000     6.000000     0.000000   \n",
              "max              NaN  2.353477e+06     1.000000    11.000000     1.000000   \n",
              "\n",
              "               v14a       refrig         v18q        v18q1         r4h1  ...  \\\n",
              "count   9557.000000  9557.000000  9557.000000  2215.000000  9557.000000  ...   \n",
              "unique          NaN          NaN          NaN          NaN          NaN  ...   \n",
              "top             NaN          NaN          NaN          NaN          NaN  ...   \n",
              "freq            NaN          NaN          NaN          NaN          NaN  ...   \n",
              "mean       0.994768     0.957623     0.231767     1.404063     0.385895  ...   \n",
              "std        0.072145     0.201459     0.421983     0.763131     0.680779  ...   \n",
              "min        0.000000     0.000000     0.000000     1.000000     0.000000  ...   \n",
              "25%        1.000000     1.000000     0.000000     1.000000     0.000000  ...   \n",
              "50%        1.000000     1.000000     0.000000     1.000000     0.000000  ...   \n",
              "75%        1.000000     1.000000     0.000000     2.000000     1.000000  ...   \n",
              "max        1.000000     1.000000     1.000000     6.000000     5.000000  ...   \n",
              "\n",
              "        SQBescolari       SQBage  SQBhogar_total    SQBedjefe  SQBhogar_nin  \\\n",
              "count   9557.000000  9557.000000     9557.000000  9557.000000   9557.000000   \n",
              "unique          NaN          NaN             NaN          NaN           NaN   \n",
              "top             NaN          NaN             NaN          NaN           NaN   \n",
              "freq            NaN          NaN             NaN          NaN           NaN   \n",
              "mean      74.222769  1643.774302       19.132887    53.500262      3.844826   \n",
              "std       76.777549  1741.197050       18.751395    78.445804      6.946296   \n",
              "min        0.000000     0.000000        1.000000     0.000000      0.000000   \n",
              "25%       16.000000   289.000000        9.000000     0.000000      0.000000   \n",
              "50%       36.000000   961.000000       16.000000    36.000000      1.000000   \n",
              "75%      121.000000  2601.000000       25.000000    81.000000      4.000000   \n",
              "max      441.000000  9409.000000      169.000000   441.000000     81.000000   \n",
              "\n",
              "        SQBovercrowding  SQBdependency    SQBmeaned        agesq       Target  \n",
              "count       9557.000000    9557.000000  9552.000000  9557.000000  9557.000000  \n",
              "unique              NaN            NaN          NaN          NaN          NaN  \n",
              "top                 NaN            NaN          NaN          NaN          NaN  \n",
              "freq                NaN            NaN          NaN          NaN          NaN  \n",
              "mean           3.249485       3.900409   102.588867  1643.774302     3.302292  \n",
              "std            4.129547      12.511831    93.516890  1741.197050     1.009565  \n",
              "min            0.040000       0.000000     0.000000     0.000000     1.000000  \n",
              "25%            1.000000       0.111111    36.000000   289.000000     3.000000  \n",
              "50%            2.250000       0.444444    81.000000   961.000000     4.000000  \n",
              "75%            4.000000       1.777778   134.560010  2601.000000     4.000000  \n",
              "max           36.000000      64.000000  1369.000000  9409.000000     4.000000  \n",
              "\n",
              "[11 rows x 143 columns]"
            ],
            "text/html": [
              "<div>\n",
              "<style scoped>\n",
              "    .dataframe tbody tr th:only-of-type {\n",
              "        vertical-align: middle;\n",
              "    }\n",
              "\n",
              "    .dataframe tbody tr th {\n",
              "        vertical-align: top;\n",
              "    }\n",
              "\n",
              "    .dataframe thead th {\n",
              "        text-align: right;\n",
              "    }\n",
              "</style>\n",
              "<table border=\"1\" class=\"dataframe\">\n",
              "  <thead>\n",
              "    <tr style=\"text-align: right;\">\n",
              "      <th></th>\n",
              "      <th>Id</th>\n",
              "      <th>v2a1</th>\n",
              "      <th>hacdor</th>\n",
              "      <th>rooms</th>\n",
              "      <th>hacapo</th>\n",
              "      <th>v14a</th>\n",
              "      <th>refrig</th>\n",
              "      <th>v18q</th>\n",
              "      <th>v18q1</th>\n",
              "      <th>r4h1</th>\n",
              "      <th>...</th>\n",
              "      <th>SQBescolari</th>\n",
              "      <th>SQBage</th>\n",
              "      <th>SQBhogar_total</th>\n",
              "      <th>SQBedjefe</th>\n",
              "      <th>SQBhogar_nin</th>\n",
              "      <th>SQBovercrowding</th>\n",
              "      <th>SQBdependency</th>\n",
              "      <th>SQBmeaned</th>\n",
              "      <th>agesq</th>\n",
              "      <th>Target</th>\n",
              "    </tr>\n",
              "  </thead>\n",
              "  <tbody>\n",
              "    <tr>\n",
              "      <th>count</th>\n",
              "      <td>9557</td>\n",
              "      <td>2.697000e+03</td>\n",
              "      <td>9557.000000</td>\n",
              "      <td>9557.000000</td>\n",
              "      <td>9557.000000</td>\n",
              "      <td>9557.000000</td>\n",
              "      <td>9557.000000</td>\n",
              "      <td>9557.000000</td>\n",
              "      <td>2215.000000</td>\n",
              "      <td>9557.000000</td>\n",
              "      <td>...</td>\n",
              "      <td>9557.000000</td>\n",
              "      <td>9557.000000</td>\n",
              "      <td>9557.000000</td>\n",
              "      <td>9557.000000</td>\n",
              "      <td>9557.000000</td>\n",
              "      <td>9557.000000</td>\n",
              "      <td>9557.000000</td>\n",
              "      <td>9552.000000</td>\n",
              "      <td>9557.000000</td>\n",
              "      <td>9557.000000</td>\n",
              "    </tr>\n",
              "    <tr>\n",
              "      <th>unique</th>\n",
              "      <td>9557</td>\n",
              "      <td>NaN</td>\n",
              "      <td>NaN</td>\n",
              "      <td>NaN</td>\n",
              "      <td>NaN</td>\n",
              "      <td>NaN</td>\n",
              "      <td>NaN</td>\n",
              "      <td>NaN</td>\n",
              "      <td>NaN</td>\n",
              "      <td>NaN</td>\n",
              "      <td>...</td>\n",
              "      <td>NaN</td>\n",
              "      <td>NaN</td>\n",
              "      <td>NaN</td>\n",
              "      <td>NaN</td>\n",
              "      <td>NaN</td>\n",
              "      <td>NaN</td>\n",
              "      <td>NaN</td>\n",
              "      <td>NaN</td>\n",
              "      <td>NaN</td>\n",
              "      <td>NaN</td>\n",
              "    </tr>\n",
              "    <tr>\n",
              "      <th>top</th>\n",
              "      <td>ID_ef5ba3988</td>\n",
              "      <td>NaN</td>\n",
              "      <td>NaN</td>\n",
              "      <td>NaN</td>\n",
              "      <td>NaN</td>\n",
              "      <td>NaN</td>\n",
              "      <td>NaN</td>\n",
              "      <td>NaN</td>\n",
              "      <td>NaN</td>\n",
              "      <td>NaN</td>\n",
              "      <td>...</td>\n",
              "      <td>NaN</td>\n",
              "      <td>NaN</td>\n",
              "      <td>NaN</td>\n",
              "      <td>NaN</td>\n",
              "      <td>NaN</td>\n",
              "      <td>NaN</td>\n",
              "      <td>NaN</td>\n",
              "      <td>NaN</td>\n",
              "      <td>NaN</td>\n",
              "      <td>NaN</td>\n",
              "    </tr>\n",
              "    <tr>\n",
              "      <th>freq</th>\n",
              "      <td>1</td>\n",
              "      <td>NaN</td>\n",
              "      <td>NaN</td>\n",
              "      <td>NaN</td>\n",
              "      <td>NaN</td>\n",
              "      <td>NaN</td>\n",
              "      <td>NaN</td>\n",
              "      <td>NaN</td>\n",
              "      <td>NaN</td>\n",
              "      <td>NaN</td>\n",
              "      <td>...</td>\n",
              "      <td>NaN</td>\n",
              "      <td>NaN</td>\n",
              "      <td>NaN</td>\n",
              "      <td>NaN</td>\n",
              "      <td>NaN</td>\n",
              "      <td>NaN</td>\n",
              "      <td>NaN</td>\n",
              "      <td>NaN</td>\n",
              "      <td>NaN</td>\n",
              "      <td>NaN</td>\n",
              "    </tr>\n",
              "    <tr>\n",
              "      <th>mean</th>\n",
              "      <td>NaN</td>\n",
              "      <td>1.652316e+05</td>\n",
              "      <td>0.038087</td>\n",
              "      <td>4.955530</td>\n",
              "      <td>0.023648</td>\n",
              "      <td>0.994768</td>\n",
              "      <td>0.957623</td>\n",
              "      <td>0.231767</td>\n",
              "      <td>1.404063</td>\n",
              "      <td>0.385895</td>\n",
              "      <td>...</td>\n",
              "      <td>74.222769</td>\n",
              "      <td>1643.774302</td>\n",
              "      <td>19.132887</td>\n",
              "      <td>53.500262</td>\n",
              "      <td>3.844826</td>\n",
              "      <td>3.249485</td>\n",
              "      <td>3.900409</td>\n",
              "      <td>102.588867</td>\n",
              "      <td>1643.774302</td>\n",
              "      <td>3.302292</td>\n",
              "    </tr>\n",
              "    <tr>\n",
              "      <th>std</th>\n",
              "      <td>NaN</td>\n",
              "      <td>1.504571e+05</td>\n",
              "      <td>0.191417</td>\n",
              "      <td>1.468381</td>\n",
              "      <td>0.151957</td>\n",
              "      <td>0.072145</td>\n",
              "      <td>0.201459</td>\n",
              "      <td>0.421983</td>\n",
              "      <td>0.763131</td>\n",
              "      <td>0.680779</td>\n",
              "      <td>...</td>\n",
              "      <td>76.777549</td>\n",
              "      <td>1741.197050</td>\n",
              "      <td>18.751395</td>\n",
              "      <td>78.445804</td>\n",
              "      <td>6.946296</td>\n",
              "      <td>4.129547</td>\n",
              "      <td>12.511831</td>\n",
              "      <td>93.516890</td>\n",
              "      <td>1741.197050</td>\n",
              "      <td>1.009565</td>\n",
              "    </tr>\n",
              "    <tr>\n",
              "      <th>min</th>\n",
              "      <td>NaN</td>\n",
              "      <td>0.000000e+00</td>\n",
              "      <td>0.000000</td>\n",
              "      <td>1.000000</td>\n",
              "      <td>0.000000</td>\n",
              "      <td>0.000000</td>\n",
              "      <td>0.000000</td>\n",
              "      <td>0.000000</td>\n",
              "      <td>1.000000</td>\n",
              "      <td>0.000000</td>\n",
              "      <td>...</td>\n",
              "      <td>0.000000</td>\n",
              "      <td>0.000000</td>\n",
              "      <td>1.000000</td>\n",
              "      <td>0.000000</td>\n",
              "      <td>0.000000</td>\n",
              "      <td>0.040000</td>\n",
              "      <td>0.000000</td>\n",
              "      <td>0.000000</td>\n",
              "      <td>0.000000</td>\n",
              "      <td>1.000000</td>\n",
              "    </tr>\n",
              "    <tr>\n",
              "      <th>25%</th>\n",
              "      <td>NaN</td>\n",
              "      <td>8.000000e+04</td>\n",
              "      <td>0.000000</td>\n",
              "      <td>4.000000</td>\n",
              "      <td>0.000000</td>\n",
              "      <td>1.000000</td>\n",
              "      <td>1.000000</td>\n",
              "      <td>0.000000</td>\n",
              "      <td>1.000000</td>\n",
              "      <td>0.000000</td>\n",
              "      <td>...</td>\n",
              "      <td>16.000000</td>\n",
              "      <td>289.000000</td>\n",
              "      <td>9.000000</td>\n",
              "      <td>0.000000</td>\n",
              "      <td>0.000000</td>\n",
              "      <td>1.000000</td>\n",
              "      <td>0.111111</td>\n",
              "      <td>36.000000</td>\n",
              "      <td>289.000000</td>\n",
              "      <td>3.000000</td>\n",
              "    </tr>\n",
              "    <tr>\n",
              "      <th>50%</th>\n",
              "      <td>NaN</td>\n",
              "      <td>1.300000e+05</td>\n",
              "      <td>0.000000</td>\n",
              "      <td>5.000000</td>\n",
              "      <td>0.000000</td>\n",
              "      <td>1.000000</td>\n",
              "      <td>1.000000</td>\n",
              "      <td>0.000000</td>\n",
              "      <td>1.000000</td>\n",
              "      <td>0.000000</td>\n",
              "      <td>...</td>\n",
              "      <td>36.000000</td>\n",
              "      <td>961.000000</td>\n",
              "      <td>16.000000</td>\n",
              "      <td>36.000000</td>\n",
              "      <td>1.000000</td>\n",
              "      <td>2.250000</td>\n",
              "      <td>0.444444</td>\n",
              "      <td>81.000000</td>\n",
              "      <td>961.000000</td>\n",
              "      <td>4.000000</td>\n",
              "    </tr>\n",
              "    <tr>\n",
              "      <th>75%</th>\n",
              "      <td>NaN</td>\n",
              "      <td>2.000000e+05</td>\n",
              "      <td>0.000000</td>\n",
              "      <td>6.000000</td>\n",
              "      <td>0.000000</td>\n",
              "      <td>1.000000</td>\n",
              "      <td>1.000000</td>\n",
              "      <td>0.000000</td>\n",
              "      <td>2.000000</td>\n",
              "      <td>1.000000</td>\n",
              "      <td>...</td>\n",
              "      <td>121.000000</td>\n",
              "      <td>2601.000000</td>\n",
              "      <td>25.000000</td>\n",
              "      <td>81.000000</td>\n",
              "      <td>4.000000</td>\n",
              "      <td>4.000000</td>\n",
              "      <td>1.777778</td>\n",
              "      <td>134.560010</td>\n",
              "      <td>2601.000000</td>\n",
              "      <td>4.000000</td>\n",
              "    </tr>\n",
              "    <tr>\n",
              "      <th>max</th>\n",
              "      <td>NaN</td>\n",
              "      <td>2.353477e+06</td>\n",
              "      <td>1.000000</td>\n",
              "      <td>11.000000</td>\n",
              "      <td>1.000000</td>\n",
              "      <td>1.000000</td>\n",
              "      <td>1.000000</td>\n",
              "      <td>1.000000</td>\n",
              "      <td>6.000000</td>\n",
              "      <td>5.000000</td>\n",
              "      <td>...</td>\n",
              "      <td>441.000000</td>\n",
              "      <td>9409.000000</td>\n",
              "      <td>169.000000</td>\n",
              "      <td>441.000000</td>\n",
              "      <td>81.000000</td>\n",
              "      <td>36.000000</td>\n",
              "      <td>64.000000</td>\n",
              "      <td>1369.000000</td>\n",
              "      <td>9409.000000</td>\n",
              "      <td>4.000000</td>\n",
              "    </tr>\n",
              "  </tbody>\n",
              "</table>\n",
              "<p>11 rows × 143 columns</p>\n",
              "</div>"
            ]
          },
          "metadata": {
            "tags": []
          },
          "execution_count": 4
        }
      ]
    },
    {
      "cell_type": "code",
      "metadata": {
        "execution": {
          "iopub.status.busy": "2021-07-09T00:57:26.048056Z",
          "iopub.execute_input": "2021-07-09T00:57:26.048545Z",
          "iopub.status.idle": "2021-07-09T00:57:26.063676Z",
          "shell.execute_reply.started": "2021-07-09T00:57:26.048503Z",
          "shell.execute_reply": "2021-07-09T00:57:26.062745Z"
        },
        "trusted": true,
        "id": "dNHFzxCfDtjV",
        "outputId": "387531e0-2d76-4d75-eaff-bb17aea7f040"
      },
      "source": [
        "train.info()"
      ],
      "execution_count": null,
      "outputs": [
        {
          "output_type": "stream",
          "text": [
            "<class 'pandas.core.frame.DataFrame'>\n",
            "RangeIndex: 9557 entries, 0 to 9556\n",
            "Columns: 143 entries, Id to Target\n",
            "dtypes: float64(8), int64(130), object(5)\n",
            "memory usage: 10.4+ MB\n"
          ],
          "name": "stdout"
        }
      ]
    },
    {
      "cell_type": "code",
      "metadata": {
        "execution": {
          "iopub.status.busy": "2021-07-09T00:57:26.066115Z",
          "iopub.execute_input": "2021-07-09T00:57:26.066570Z",
          "iopub.status.idle": "2021-07-09T00:57:26.091359Z",
          "shell.execute_reply.started": "2021-07-09T00:57:26.066532Z",
          "shell.execute_reply": "2021-07-09T00:57:26.090107Z"
        },
        "trusted": true,
        "id": "1f0BwIFSDtjX",
        "outputId": "9eb514f8-60d4-4576-e048-e24c5247a480"
      },
      "source": [
        "# False-> 0, True-> 1\n",
        "train.isnull().sum()"
      ],
      "execution_count": null,
      "outputs": [
        {
          "output_type": "execute_result",
          "data": {
            "text/plain": [
              "Id                    0\n",
              "v2a1               6860\n",
              "hacdor                0\n",
              "rooms                 0\n",
              "hacapo                0\n",
              "                   ... \n",
              "SQBovercrowding       0\n",
              "SQBdependency         0\n",
              "SQBmeaned             5\n",
              "agesq                 0\n",
              "Target                0\n",
              "Length: 143, dtype: int64"
            ]
          },
          "metadata": {
            "tags": []
          },
          "execution_count": 6
        }
      ]
    },
    {
      "cell_type": "code",
      "metadata": {
        "execution": {
          "iopub.status.busy": "2021-07-09T00:57:26.093385Z",
          "iopub.execute_input": "2021-07-09T00:57:26.093707Z",
          "iopub.status.idle": "2021-07-09T00:57:26.118697Z",
          "shell.execute_reply.started": "2021-07-09T00:57:26.093677Z",
          "shell.execute_reply": "2021-07-09T00:57:26.117645Z"
        },
        "trusted": true,
        "id": "Lw_nu-XjDtjY",
        "outputId": "5154e5d3-7b8a-4d1b-b176-2328e8626c79"
      },
      "source": [
        "train= train.dropna(axis= 'columns')\n",
        "# null컬럼 삭제\n",
        "train.columns, len(train.columns)"
      ],
      "execution_count": null,
      "outputs": [
        {
          "output_type": "execute_result",
          "data": {
            "text/plain": [
              "(Index(['Id', 'hacdor', 'rooms', 'hacapo', 'v14a', 'refrig', 'v18q', 'r4h1',\n",
              "        'r4h2', 'r4h3',\n",
              "        ...\n",
              "        'age', 'SQBescolari', 'SQBage', 'SQBhogar_total', 'SQBedjefe',\n",
              "        'SQBhogar_nin', 'SQBovercrowding', 'SQBdependency', 'agesq', 'Target'],\n",
              "       dtype='object', length=138),\n",
              " 138)"
            ]
          },
          "metadata": {
            "tags": []
          },
          "execution_count": 7
        }
      ]
    },
    {
      "cell_type": "code",
      "metadata": {
        "execution": {
          "iopub.status.busy": "2021-07-09T00:57:26.120122Z",
          "iopub.execute_input": "2021-07-09T00:57:26.120435Z",
          "iopub.status.idle": "2021-07-09T00:57:26.140021Z",
          "shell.execute_reply.started": "2021-07-09T00:57:26.120401Z",
          "shell.execute_reply": "2021-07-09T00:57:26.138699Z"
        },
        "trusted": true,
        "id": "rlkJtxH9Dtja",
        "outputId": "539993ab-f8ee-4529-b78d-04ad7b3157b5"
      },
      "source": [
        "train.isnull().sum()\n",
        "# null이 삭제됨"
      ],
      "execution_count": null,
      "outputs": [
        {
          "output_type": "execute_result",
          "data": {
            "text/plain": [
              "Id                 0\n",
              "hacdor             0\n",
              "rooms              0\n",
              "hacapo             0\n",
              "v14a               0\n",
              "                  ..\n",
              "SQBhogar_nin       0\n",
              "SQBovercrowding    0\n",
              "SQBdependency      0\n",
              "agesq              0\n",
              "Target             0\n",
              "Length: 138, dtype: int64"
            ]
          },
          "metadata": {
            "tags": []
          },
          "execution_count": 8
        }
      ]
    },
    {
      "cell_type": "markdown",
      "metadata": {
        "id": "lg8Nj2K4Dtjf"
      },
      "source": [
        "refrig, tamhog, hhsize, public, idhogar, dependency, hogar_total, overcrowding, bedrooms, agesq, Target \n"
      ]
    },
    {
      "cell_type": "code",
      "metadata": {
        "execution": {
          "iopub.status.busy": "2021-07-09T00:57:26.141469Z",
          "iopub.execute_input": "2021-07-09T00:57:26.141798Z",
          "iopub.status.idle": "2021-07-09T00:57:26.163418Z",
          "shell.execute_reply.started": "2021-07-09T00:57:26.141764Z",
          "shell.execute_reply": "2021-07-09T00:57:26.162400Z"
        },
        "trusted": true,
        "id": "NG7tj4KCDtjj",
        "outputId": "10779a1c-cf52-4cdf-e61d-d436a20fbdd4"
      },
      "source": [
        "train_feature= train[['refrig', 'tamhog', 'hhsize', 'public', 'idhogar', 'dependency', \n",
        "       'hogar_total', 'overcrowding', 'bedrooms', 'agesq']]\n",
        "train_feature.info()\n",
        "# float 1, int 7, object 2개"
      ],
      "execution_count": null,
      "outputs": [
        {
          "output_type": "stream",
          "text": [
            "<class 'pandas.core.frame.DataFrame'>\n",
            "RangeIndex: 9557 entries, 0 to 9556\n",
            "Data columns (total 10 columns):\n",
            " #   Column        Non-Null Count  Dtype  \n",
            "---  ------        --------------  -----  \n",
            " 0   refrig        9557 non-null   int64  \n",
            " 1   tamhog        9557 non-null   int64  \n",
            " 2   hhsize        9557 non-null   int64  \n",
            " 3   public        9557 non-null   int64  \n",
            " 4   idhogar       9557 non-null   object \n",
            " 5   dependency    9557 non-null   object \n",
            " 6   hogar_total   9557 non-null   int64  \n",
            " 7   overcrowding  9557 non-null   float64\n",
            " 8   bedrooms      9557 non-null   int64  \n",
            " 9   agesq         9557 non-null   int64  \n",
            "dtypes: float64(1), int64(7), object(2)\n",
            "memory usage: 746.8+ KB\n"
          ],
          "name": "stdout"
        }
      ]
    },
    {
      "cell_type": "code",
      "metadata": {
        "execution": {
          "iopub.status.busy": "2021-07-09T00:57:26.164651Z",
          "iopub.execute_input": "2021-07-09T00:57:26.164996Z",
          "iopub.status.idle": "2021-07-09T00:57:26.179559Z",
          "shell.execute_reply.started": "2021-07-09T00:57:26.164963Z",
          "shell.execute_reply": "2021-07-09T00:57:26.178467Z"
        },
        "trusted": true,
        "id": "HMTsx4i0Dtjl",
        "outputId": "96520df3-a4fe-4604-9ac0-eddcabbf7eb4"
      },
      "source": [
        "train_feature.head(3)"
      ],
      "execution_count": null,
      "outputs": [
        {
          "output_type": "execute_result",
          "data": {
            "text/plain": [
              "   refrig  tamhog  hhsize  public    idhogar dependency  hogar_total  \\\n",
              "0       1       1       1       1  21eb7fcc1         no            1   \n",
              "1       1       1       1       1  0e5d7a658          8            1   \n",
              "2       1       1       1       1  2c7317ea8          8            1   \n",
              "\n",
              "   overcrowding  bedrooms  agesq  \n",
              "0           1.0         1   1849  \n",
              "1           1.0         1   4489  \n",
              "2           0.5         2   8464  "
            ],
            "text/html": [
              "<div>\n",
              "<style scoped>\n",
              "    .dataframe tbody tr th:only-of-type {\n",
              "        vertical-align: middle;\n",
              "    }\n",
              "\n",
              "    .dataframe tbody tr th {\n",
              "        vertical-align: top;\n",
              "    }\n",
              "\n",
              "    .dataframe thead th {\n",
              "        text-align: right;\n",
              "    }\n",
              "</style>\n",
              "<table border=\"1\" class=\"dataframe\">\n",
              "  <thead>\n",
              "    <tr style=\"text-align: right;\">\n",
              "      <th></th>\n",
              "      <th>refrig</th>\n",
              "      <th>tamhog</th>\n",
              "      <th>hhsize</th>\n",
              "      <th>public</th>\n",
              "      <th>idhogar</th>\n",
              "      <th>dependency</th>\n",
              "      <th>hogar_total</th>\n",
              "      <th>overcrowding</th>\n",
              "      <th>bedrooms</th>\n",
              "      <th>agesq</th>\n",
              "    </tr>\n",
              "  </thead>\n",
              "  <tbody>\n",
              "    <tr>\n",
              "      <th>0</th>\n",
              "      <td>1</td>\n",
              "      <td>1</td>\n",
              "      <td>1</td>\n",
              "      <td>1</td>\n",
              "      <td>21eb7fcc1</td>\n",
              "      <td>no</td>\n",
              "      <td>1</td>\n",
              "      <td>1.0</td>\n",
              "      <td>1</td>\n",
              "      <td>1849</td>\n",
              "    </tr>\n",
              "    <tr>\n",
              "      <th>1</th>\n",
              "      <td>1</td>\n",
              "      <td>1</td>\n",
              "      <td>1</td>\n",
              "      <td>1</td>\n",
              "      <td>0e5d7a658</td>\n",
              "      <td>8</td>\n",
              "      <td>1</td>\n",
              "      <td>1.0</td>\n",
              "      <td>1</td>\n",
              "      <td>4489</td>\n",
              "    </tr>\n",
              "    <tr>\n",
              "      <th>2</th>\n",
              "      <td>1</td>\n",
              "      <td>1</td>\n",
              "      <td>1</td>\n",
              "      <td>1</td>\n",
              "      <td>2c7317ea8</td>\n",
              "      <td>8</td>\n",
              "      <td>1</td>\n",
              "      <td>0.5</td>\n",
              "      <td>2</td>\n",
              "      <td>8464</td>\n",
              "    </tr>\n",
              "  </tbody>\n",
              "</table>\n",
              "</div>"
            ]
          },
          "metadata": {
            "tags": []
          },
          "execution_count": 10
        }
      ]
    },
    {
      "cell_type": "markdown",
      "metadata": {
        "id": "_LqVh3teDtjm"
      },
      "source": [
        "### 연속형? 분류형? 확인하기\n",
        "- 연속형: refrig, public, dependency, overcrowding, bedrooms\n",
        "- 분류형: tamhog, hhsize, hogar_total\n",
        "- 대상에서 제외(난해한 것): idhogar, agesq\n",
        "\n",
        "- 소수점, 개수, 수치적인 의미를 가짐-> 연속형\n",
        "- refrig가 냉장고 대수를 새는 구나~ 하는걸 알면 연속형이구나 알수있고  refrig2000년식 refrig2002년식 refrig2003년식 이런식으로 분류가 되면 분류형이구나~"
      ]
    },
    {
      "cell_type": "code",
      "metadata": {
        "execution": {
          "iopub.status.busy": "2021-07-09T00:57:26.181198Z",
          "iopub.execute_input": "2021-07-09T00:57:26.181503Z",
          "iopub.status.idle": "2021-07-09T00:57:26.194492Z",
          "shell.execute_reply.started": "2021-07-09T00:57:26.181472Z",
          "shell.execute_reply": "2021-07-09T00:57:26.193345Z"
        },
        "trusted": true,
        "id": "Lr4j8i-cDtjo",
        "outputId": "7a3aef60-f717-491d-9e1f-ac94539d897c"
      },
      "source": [
        "train_feature['refrig'].value_counts()"
      ],
      "execution_count": null,
      "outputs": [
        {
          "output_type": "execute_result",
          "data": {
            "text/plain": [
              "1    9152\n",
              "0     405\n",
              "Name: refrig, dtype: int64"
            ]
          },
          "metadata": {
            "tags": []
          },
          "execution_count": 11
        }
      ]
    },
    {
      "cell_type": "code",
      "metadata": {
        "execution": {
          "iopub.status.busy": "2021-07-09T00:57:26.196189Z",
          "iopub.execute_input": "2021-07-09T00:57:26.196540Z",
          "iopub.status.idle": "2021-07-09T00:57:26.210075Z",
          "shell.execute_reply.started": "2021-07-09T00:57:26.196507Z",
          "shell.execute_reply": "2021-07-09T00:57:26.208996Z"
        },
        "trusted": true,
        "id": "m4eaGpiSDtjp",
        "outputId": "a6ee7848-f98f-42f1-b0e2-408c779d5183"
      },
      "source": [
        "train_feature= train_feature[['refrig', 'public', 'dependency', 'overcrowding', \n",
        "                'bedrooms', 'tamhog', 'hhsize', 'hogar_total']]\n",
        "train_feature.shape"
      ],
      "execution_count": null,
      "outputs": [
        {
          "output_type": "execute_result",
          "data": {
            "text/plain": [
              "(9557, 8)"
            ]
          },
          "metadata": {
            "tags": []
          },
          "execution_count": 12
        }
      ]
    },
    {
      "cell_type": "code",
      "metadata": {
        "execution": {
          "iopub.status.busy": "2021-07-09T00:57:26.211223Z",
          "iopub.execute_input": "2021-07-09T00:57:26.211633Z",
          "iopub.status.idle": "2021-07-09T00:57:26.227727Z",
          "shell.execute_reply.started": "2021-07-09T00:57:26.211587Z",
          "shell.execute_reply": "2021-07-09T00:57:26.226428Z"
        },
        "trusted": true,
        "id": "MD_jCsvNDtjs",
        "outputId": "7fa887f3-46c2-4fbe-f3fc-30792bf1109d"
      },
      "source": [
        "train_feature['dependency'].value_counts()\n",
        "# yes, no를 바꿔야 함 -> replace 또는 null로 만들고 dropna"
      ],
      "execution_count": null,
      "outputs": [
        {
          "output_type": "execute_result",
          "data": {
            "text/plain": [
              "yes          2192\n",
              "no           1747\n",
              ".5           1497\n",
              "2             730\n",
              "1.5           713\n",
              ".33333334     598\n",
              ".66666669     487\n",
              "8             378\n",
              ".25           260\n",
              "3             236\n",
              "4             100\n",
              ".75            98\n",
              ".2             90\n",
              "1.3333334      84\n",
              ".40000001      84\n",
              "2.5            77\n",
              "5              24\n",
              "3.5            18\n",
              "1.25           18\n",
              ".80000001      18\n",
              "2.25           13\n",
              ".71428573      12\n",
              ".83333331      11\n",
              ".22222222      11\n",
              "1.2            11\n",
              "1.75           11\n",
              ".2857143        9\n",
              ".60000002       8\n",
              "1.6666666       8\n",
              ".16666667       7\n",
              "6               7\n",
              "Name: dependency, dtype: int64"
            ]
          },
          "metadata": {
            "tags": []
          },
          "execution_count": 13
        }
      ]
    },
    {
      "cell_type": "code",
      "metadata": {
        "execution": {
          "iopub.status.busy": "2021-07-09T00:57:26.232225Z",
          "iopub.execute_input": "2021-07-09T00:57:26.232719Z",
          "iopub.status.idle": "2021-07-09T00:57:26.249374Z",
          "shell.execute_reply.started": "2021-07-09T00:57:26.232680Z",
          "shell.execute_reply": "2021-07-09T00:57:26.247951Z"
        },
        "trusted": true,
        "id": "8WvmtFuEDtjx",
        "outputId": "ef568032-9a16-4bec-f916-ae66ed59f49c"
      },
      "source": [
        "train_feature['dependency'].describe()"
      ],
      "execution_count": null,
      "outputs": [
        {
          "output_type": "execute_result",
          "data": {
            "text/plain": [
              "count     9557\n",
              "unique      31\n",
              "top        yes\n",
              "freq      2192\n",
              "Name: dependency, dtype: object"
            ]
          },
          "metadata": {
            "tags": []
          },
          "execution_count": 14
        }
      ]
    },
    {
      "cell_type": "code",
      "metadata": {
        "execution": {
          "iopub.status.busy": "2021-07-09T00:57:26.251669Z",
          "iopub.execute_input": "2021-07-09T00:57:26.252357Z",
          "iopub.status.idle": "2021-07-09T00:57:26.261981Z",
          "shell.execute_reply.started": "2021-07-09T00:57:26.252307Z",
          "shell.execute_reply": "2021-07-09T00:57:26.260796Z"
        },
        "trusted": true,
        "id": "S0y7kRBaDtjz"
      },
      "source": [
        "train_feature['dependency']= train_feature['dependency'].replace(to_replace= 'yes', value= 2)"
      ],
      "execution_count": null,
      "outputs": []
    },
    {
      "cell_type": "code",
      "metadata": {
        "execution": {
          "iopub.status.busy": "2021-07-09T00:57:26.263544Z",
          "iopub.execute_input": "2021-07-09T00:57:26.264002Z",
          "iopub.status.idle": "2021-07-09T00:57:26.276407Z",
          "shell.execute_reply.started": "2021-07-09T00:57:26.263945Z",
          "shell.execute_reply": "2021-07-09T00:57:26.275405Z"
        },
        "trusted": true,
        "id": "yYbTBnTfDtj1"
      },
      "source": [
        "train_feature['dependency']= train_feature['dependency'].replace(to_replace= 'no', value= 6)"
      ],
      "execution_count": null,
      "outputs": []
    },
    {
      "cell_type": "code",
      "metadata": {
        "execution": {
          "iopub.status.busy": "2021-07-09T00:57:26.277475Z",
          "iopub.execute_input": "2021-07-09T00:57:26.278066Z",
          "iopub.status.idle": "2021-07-09T00:57:26.299724Z",
          "shell.execute_reply.started": "2021-07-09T00:57:26.278020Z",
          "shell.execute_reply": "2021-07-09T00:57:26.298570Z"
        },
        "trusted": true,
        "id": "AoQ2vXHuDtj3",
        "outputId": "22623246-00b1-49cf-aed4-9dd9ea78d9e5"
      },
      "source": [
        "train_feature['dependency'].describe(include= 'all')"
      ],
      "execution_count": null,
      "outputs": [
        {
          "output_type": "execute_result",
          "data": {
            "text/plain": [
              "count     9557\n",
              "unique      31\n",
              "top          2\n",
              "freq      2192\n",
              "Name: dependency, dtype: int64"
            ]
          },
          "metadata": {
            "tags": []
          },
          "execution_count": 17
        }
      ]
    },
    {
      "cell_type": "code",
      "metadata": {
        "execution": {
          "iopub.status.busy": "2021-07-09T00:57:26.301150Z",
          "iopub.execute_input": "2021-07-09T00:57:26.301450Z",
          "iopub.status.idle": "2021-07-09T00:57:26.315833Z",
          "shell.execute_reply.started": "2021-07-09T00:57:26.301421Z",
          "shell.execute_reply": "2021-07-09T00:57:26.314477Z"
        },
        "trusted": true,
        "id": "GGgR1uTIDtj4",
        "outputId": "7efef3fd-1901-47a0-ccd6-2fc67cfb2868"
      },
      "source": [
        "train_feature.isnull().sum()\n",
        "# null이 없다"
      ],
      "execution_count": null,
      "outputs": [
        {
          "output_type": "execute_result",
          "data": {
            "text/plain": [
              "refrig          0\n",
              "public          0\n",
              "dependency      0\n",
              "overcrowding    0\n",
              "bedrooms        0\n",
              "tamhog          0\n",
              "hhsize          0\n",
              "hogar_total     0\n",
              "dtype: int64"
            ]
          },
          "metadata": {
            "tags": []
          },
          "execution_count": 18
        }
      ]
    },
    {
      "cell_type": "markdown",
      "metadata": {
        "id": "3ZLV7QriDtj5"
      },
      "source": [
        "## 시각화 heatmap"
      ]
    },
    {
      "cell_type": "code",
      "metadata": {
        "execution": {
          "iopub.status.busy": "2021-07-09T00:57:26.317199Z",
          "iopub.execute_input": "2021-07-09T00:57:26.317495Z",
          "iopub.status.idle": "2021-07-09T00:57:26.339694Z",
          "shell.execute_reply.started": "2021-07-09T00:57:26.317465Z",
          "shell.execute_reply": "2021-07-09T00:57:26.338990Z"
        },
        "trusted": true,
        "id": "lL_HCiPpDtj5",
        "outputId": "9fd28f5c-45cb-4b14-f299-ae5215f80aa1"
      },
      "source": [
        "train_feature.corr()"
      ],
      "execution_count": null,
      "outputs": [
        {
          "output_type": "execute_result",
          "data": {
            "text/plain": [
              "                refrig    public  overcrowding  bedrooms    tamhog    hhsize  \\\n",
              "refrig        1.000000  0.064289     -0.113158  0.103223 -0.026784 -0.026784   \n",
              "public        0.064289  1.000000     -0.003372  0.021019  0.000179  0.000179   \n",
              "overcrowding -0.113158 -0.003372      1.000000 -0.392736  0.585560  0.585560   \n",
              "bedrooms      0.103223  0.021019     -0.392736  1.000000  0.357266  0.357266   \n",
              "tamhog       -0.026784  0.000179      0.585560  0.357266  1.000000  1.000000   \n",
              "hhsize       -0.026784  0.000179      0.585560  0.357266  1.000000  1.000000   \n",
              "hogar_total  -0.026784  0.000179      0.585560  0.357266  1.000000  1.000000   \n",
              "\n",
              "              hogar_total  \n",
              "refrig          -0.026784  \n",
              "public           0.000179  \n",
              "overcrowding     0.585560  \n",
              "bedrooms         0.357266  \n",
              "tamhog           1.000000  \n",
              "hhsize           1.000000  \n",
              "hogar_total      1.000000  "
            ],
            "text/html": [
              "<div>\n",
              "<style scoped>\n",
              "    .dataframe tbody tr th:only-of-type {\n",
              "        vertical-align: middle;\n",
              "    }\n",
              "\n",
              "    .dataframe tbody tr th {\n",
              "        vertical-align: top;\n",
              "    }\n",
              "\n",
              "    .dataframe thead th {\n",
              "        text-align: right;\n",
              "    }\n",
              "</style>\n",
              "<table border=\"1\" class=\"dataframe\">\n",
              "  <thead>\n",
              "    <tr style=\"text-align: right;\">\n",
              "      <th></th>\n",
              "      <th>refrig</th>\n",
              "      <th>public</th>\n",
              "      <th>overcrowding</th>\n",
              "      <th>bedrooms</th>\n",
              "      <th>tamhog</th>\n",
              "      <th>hhsize</th>\n",
              "      <th>hogar_total</th>\n",
              "    </tr>\n",
              "  </thead>\n",
              "  <tbody>\n",
              "    <tr>\n",
              "      <th>refrig</th>\n",
              "      <td>1.000000</td>\n",
              "      <td>0.064289</td>\n",
              "      <td>-0.113158</td>\n",
              "      <td>0.103223</td>\n",
              "      <td>-0.026784</td>\n",
              "      <td>-0.026784</td>\n",
              "      <td>-0.026784</td>\n",
              "    </tr>\n",
              "    <tr>\n",
              "      <th>public</th>\n",
              "      <td>0.064289</td>\n",
              "      <td>1.000000</td>\n",
              "      <td>-0.003372</td>\n",
              "      <td>0.021019</td>\n",
              "      <td>0.000179</td>\n",
              "      <td>0.000179</td>\n",
              "      <td>0.000179</td>\n",
              "    </tr>\n",
              "    <tr>\n",
              "      <th>overcrowding</th>\n",
              "      <td>-0.113158</td>\n",
              "      <td>-0.003372</td>\n",
              "      <td>1.000000</td>\n",
              "      <td>-0.392736</td>\n",
              "      <td>0.585560</td>\n",
              "      <td>0.585560</td>\n",
              "      <td>0.585560</td>\n",
              "    </tr>\n",
              "    <tr>\n",
              "      <th>bedrooms</th>\n",
              "      <td>0.103223</td>\n",
              "      <td>0.021019</td>\n",
              "      <td>-0.392736</td>\n",
              "      <td>1.000000</td>\n",
              "      <td>0.357266</td>\n",
              "      <td>0.357266</td>\n",
              "      <td>0.357266</td>\n",
              "    </tr>\n",
              "    <tr>\n",
              "      <th>tamhog</th>\n",
              "      <td>-0.026784</td>\n",
              "      <td>0.000179</td>\n",
              "      <td>0.585560</td>\n",
              "      <td>0.357266</td>\n",
              "      <td>1.000000</td>\n",
              "      <td>1.000000</td>\n",
              "      <td>1.000000</td>\n",
              "    </tr>\n",
              "    <tr>\n",
              "      <th>hhsize</th>\n",
              "      <td>-0.026784</td>\n",
              "      <td>0.000179</td>\n",
              "      <td>0.585560</td>\n",
              "      <td>0.357266</td>\n",
              "      <td>1.000000</td>\n",
              "      <td>1.000000</td>\n",
              "      <td>1.000000</td>\n",
              "    </tr>\n",
              "    <tr>\n",
              "      <th>hogar_total</th>\n",
              "      <td>-0.026784</td>\n",
              "      <td>0.000179</td>\n",
              "      <td>0.585560</td>\n",
              "      <td>0.357266</td>\n",
              "      <td>1.000000</td>\n",
              "      <td>1.000000</td>\n",
              "      <td>1.000000</td>\n",
              "    </tr>\n",
              "  </tbody>\n",
              "</table>\n",
              "</div>"
            ]
          },
          "metadata": {
            "tags": []
          },
          "execution_count": 19
        }
      ]
    },
    {
      "cell_type": "code",
      "metadata": {
        "execution": {
          "iopub.status.busy": "2021-07-09T00:57:26.340822Z",
          "iopub.execute_input": "2021-07-09T00:57:26.341114Z",
          "iopub.status.idle": "2021-07-09T00:57:26.366790Z",
          "shell.execute_reply.started": "2021-07-09T00:57:26.341086Z",
          "shell.execute_reply": "2021-07-09T00:57:26.365545Z"
        },
        "trusted": true,
        "id": "KQHL0UPQDtj6",
        "outputId": "b5565b13-0cc0-475b-cc43-1af07acabd3c"
      },
      "source": [
        "train_heatmap= pd.concat([train['Target'], train_feature], axis= 'columns')\n",
        "train_heatmap.corr()"
      ],
      "execution_count": null,
      "outputs": [
        {
          "output_type": "execute_result",
          "data": {
            "text/plain": [
              "                Target    refrig    public  overcrowding  bedrooms    tamhog  \\\n",
              "Target        1.000000  0.126792  0.009074     -0.289110  0.166943 -0.147642   \n",
              "refrig        0.126792  1.000000  0.064289     -0.113158  0.103223 -0.026784   \n",
              "public        0.009074  0.064289  1.000000     -0.003372  0.021019  0.000179   \n",
              "overcrowding -0.289110 -0.113158 -0.003372      1.000000 -0.392736  0.585560   \n",
              "bedrooms      0.166943  0.103223  0.021019     -0.392736  1.000000  0.357266   \n",
              "tamhog       -0.147642 -0.026784  0.000179      0.585560  0.357266  1.000000   \n",
              "hhsize       -0.147642 -0.026784  0.000179      0.585560  0.357266  1.000000   \n",
              "hogar_total  -0.147642 -0.026784  0.000179      0.585560  0.357266  1.000000   \n",
              "\n",
              "                hhsize  hogar_total  \n",
              "Target       -0.147642    -0.147642  \n",
              "refrig       -0.026784    -0.026784  \n",
              "public        0.000179     0.000179  \n",
              "overcrowding  0.585560     0.585560  \n",
              "bedrooms      0.357266     0.357266  \n",
              "tamhog        1.000000     1.000000  \n",
              "hhsize        1.000000     1.000000  \n",
              "hogar_total   1.000000     1.000000  "
            ],
            "text/html": [
              "<div>\n",
              "<style scoped>\n",
              "    .dataframe tbody tr th:only-of-type {\n",
              "        vertical-align: middle;\n",
              "    }\n",
              "\n",
              "    .dataframe tbody tr th {\n",
              "        vertical-align: top;\n",
              "    }\n",
              "\n",
              "    .dataframe thead th {\n",
              "        text-align: right;\n",
              "    }\n",
              "</style>\n",
              "<table border=\"1\" class=\"dataframe\">\n",
              "  <thead>\n",
              "    <tr style=\"text-align: right;\">\n",
              "      <th></th>\n",
              "      <th>Target</th>\n",
              "      <th>refrig</th>\n",
              "      <th>public</th>\n",
              "      <th>overcrowding</th>\n",
              "      <th>bedrooms</th>\n",
              "      <th>tamhog</th>\n",
              "      <th>hhsize</th>\n",
              "      <th>hogar_total</th>\n",
              "    </tr>\n",
              "  </thead>\n",
              "  <tbody>\n",
              "    <tr>\n",
              "      <th>Target</th>\n",
              "      <td>1.000000</td>\n",
              "      <td>0.126792</td>\n",
              "      <td>0.009074</td>\n",
              "      <td>-0.289110</td>\n",
              "      <td>0.166943</td>\n",
              "      <td>-0.147642</td>\n",
              "      <td>-0.147642</td>\n",
              "      <td>-0.147642</td>\n",
              "    </tr>\n",
              "    <tr>\n",
              "      <th>refrig</th>\n",
              "      <td>0.126792</td>\n",
              "      <td>1.000000</td>\n",
              "      <td>0.064289</td>\n",
              "      <td>-0.113158</td>\n",
              "      <td>0.103223</td>\n",
              "      <td>-0.026784</td>\n",
              "      <td>-0.026784</td>\n",
              "      <td>-0.026784</td>\n",
              "    </tr>\n",
              "    <tr>\n",
              "      <th>public</th>\n",
              "      <td>0.009074</td>\n",
              "      <td>0.064289</td>\n",
              "      <td>1.000000</td>\n",
              "      <td>-0.003372</td>\n",
              "      <td>0.021019</td>\n",
              "      <td>0.000179</td>\n",
              "      <td>0.000179</td>\n",
              "      <td>0.000179</td>\n",
              "    </tr>\n",
              "    <tr>\n",
              "      <th>overcrowding</th>\n",
              "      <td>-0.289110</td>\n",
              "      <td>-0.113158</td>\n",
              "      <td>-0.003372</td>\n",
              "      <td>1.000000</td>\n",
              "      <td>-0.392736</td>\n",
              "      <td>0.585560</td>\n",
              "      <td>0.585560</td>\n",
              "      <td>0.585560</td>\n",
              "    </tr>\n",
              "    <tr>\n",
              "      <th>bedrooms</th>\n",
              "      <td>0.166943</td>\n",
              "      <td>0.103223</td>\n",
              "      <td>0.021019</td>\n",
              "      <td>-0.392736</td>\n",
              "      <td>1.000000</td>\n",
              "      <td>0.357266</td>\n",
              "      <td>0.357266</td>\n",
              "      <td>0.357266</td>\n",
              "    </tr>\n",
              "    <tr>\n",
              "      <th>tamhog</th>\n",
              "      <td>-0.147642</td>\n",
              "      <td>-0.026784</td>\n",
              "      <td>0.000179</td>\n",
              "      <td>0.585560</td>\n",
              "      <td>0.357266</td>\n",
              "      <td>1.000000</td>\n",
              "      <td>1.000000</td>\n",
              "      <td>1.000000</td>\n",
              "    </tr>\n",
              "    <tr>\n",
              "      <th>hhsize</th>\n",
              "      <td>-0.147642</td>\n",
              "      <td>-0.026784</td>\n",
              "      <td>0.000179</td>\n",
              "      <td>0.585560</td>\n",
              "      <td>0.357266</td>\n",
              "      <td>1.000000</td>\n",
              "      <td>1.000000</td>\n",
              "      <td>1.000000</td>\n",
              "    </tr>\n",
              "    <tr>\n",
              "      <th>hogar_total</th>\n",
              "      <td>-0.147642</td>\n",
              "      <td>-0.026784</td>\n",
              "      <td>0.000179</td>\n",
              "      <td>0.585560</td>\n",
              "      <td>0.357266</td>\n",
              "      <td>1.000000</td>\n",
              "      <td>1.000000</td>\n",
              "      <td>1.000000</td>\n",
              "    </tr>\n",
              "  </tbody>\n",
              "</table>\n",
              "</div>"
            ]
          },
          "metadata": {
            "tags": []
          },
          "execution_count": 20
        }
      ]
    },
    {
      "cell_type": "code",
      "metadata": {
        "execution": {
          "iopub.status.busy": "2021-07-09T00:57:26.368442Z",
          "iopub.execute_input": "2021-07-09T00:57:26.369087Z",
          "iopub.status.idle": "2021-07-09T00:57:27.987838Z",
          "shell.execute_reply.started": "2021-07-09T00:57:26.369039Z",
          "shell.execute_reply": "2021-07-09T00:57:27.986911Z"
        },
        "trusted": true,
        "id": "EVvY15tsDtj7",
        "outputId": "8cec100c-f8f3-4262-9aa6-ce05c18f73ad"
      },
      "source": [
        "import seaborn as sns\n",
        "sns.heatmap(train_heatmap.corr(), annot= True)\n",
        "# 절댓닶으로 봐야 함\n",
        "# target열: public(0.0091)->가장 영향을 덜 주는 컬럼, overcrowding(0.29)->가장 영향을 많이 주는 컬럼"
      ],
      "execution_count": null,
      "outputs": [
        {
          "output_type": "execute_result",
          "data": {
            "text/plain": [
              "<AxesSubplot:>"
            ]
          },
          "metadata": {
            "tags": []
          },
          "execution_count": 21
        },
        {
          "output_type": "display_data",
          "data": {
            "text/plain": [
              "<Figure size 432x288 with 2 Axes>"
            ],
            "image/png": "[encoded data removed]"
          },
          "metadata": {
            "tags": [],
            "needs_background": "light"
          }
        }
      ]
    },
    {
      "cell_type": "markdown",
      "metadata": {
        "id": "VqgeXsrPDtj9"
      },
      "source": [
        "## 교육 단계"
      ]
    },
    {
      "cell_type": "code",
      "metadata": {
        "execution": {
          "iopub.status.busy": "2021-07-09T00:57:27.989420Z",
          "iopub.execute_input": "2021-07-09T00:57:27.989747Z",
          "iopub.status.idle": "2021-07-09T00:57:28.007704Z",
          "shell.execute_reply.started": "2021-07-09T00:57:27.989713Z",
          "shell.execute_reply": "2021-07-09T00:57:28.006680Z"
        },
        "trusted": true,
        "id": "4mcy-s6ODtj-",
        "outputId": "a64ddeed-9156-4acb-a8d7-f4e6a229b651"
      },
      "source": [
        "train_onehot= pd.get_dummies(train_feature, columns=['tamhog', 'hhsize', 'hogar_total'])\n",
        "train_onehot.shape\n",
        "# 겟더미는 판다스, 스케일러는 프리프로세싱"
      ],
      "execution_count": null,
      "outputs": [
        {
          "output_type": "execute_result",
          "data": {
            "text/plain": [
              "(9557, 44)"
            ]
          },
          "metadata": {
            "tags": []
          },
          "execution_count": 22
        }
      ]
    },
    {
      "cell_type": "code",
      "metadata": {
        "execution": {
          "iopub.status.busy": "2021-07-09T00:57:28.009206Z",
          "iopub.execute_input": "2021-07-09T00:57:28.009856Z",
          "iopub.status.idle": "2021-07-09T00:57:28.270845Z",
          "shell.execute_reply.started": "2021-07-09T00:57:28.009811Z",
          "shell.execute_reply": "2021-07-09T00:57:28.269835Z"
        },
        "trusted": true,
        "id": "219cCF4XDtj_",
        "outputId": "bcee8181-908c-41e7-dec2-253ec93e4f37"
      },
      "source": [
        "from sklearn import preprocessing\n",
        "scaler= preprocessing.StandardScaler()\n",
        "scaler.fit(train_onehot)\n",
        "X= scaler.transform(train_onehot)\n",
        "X.shape"
      ],
      "execution_count": null,
      "outputs": [
        {
          "output_type": "execute_result",
          "data": {
            "text/plain": [
              "(9557, 44)"
            ]
          },
          "metadata": {
            "tags": []
          },
          "execution_count": 23
        }
      ]
    },
    {
      "cell_type": "code",
      "metadata": {
        "execution": {
          "iopub.status.busy": "2021-07-09T00:57:28.272066Z",
          "iopub.execute_input": "2021-07-09T00:57:28.272379Z",
          "iopub.status.idle": "2021-07-09T00:57:28.277964Z",
          "shell.execute_reply.started": "2021-07-09T00:57:28.272346Z",
          "shell.execute_reply": "2021-07-09T00:57:28.276922Z"
        },
        "trusted": true,
        "id": "bPX9cqcqDtkC",
        "outputId": "9076971e-8b0a-4bfa-9ad1-dabca087c545"
      },
      "source": [
        "Y= train['Target']\n",
        "Y.shape"
      ],
      "execution_count": null,
      "outputs": [
        {
          "output_type": "execute_result",
          "data": {
            "text/plain": [
              "(9557,)"
            ]
          },
          "metadata": {
            "tags": []
          },
          "execution_count": 24
        }
      ]
    },
    {
      "cell_type": "code",
      "metadata": {
        "execution": {
          "iopub.status.busy": "2021-07-09T00:57:28.279223Z",
          "iopub.execute_input": "2021-07-09T00:57:28.279567Z",
          "iopub.status.idle": "2021-07-09T00:57:30.192479Z",
          "shell.execute_reply.started": "2021-07-09T00:57:28.279534Z",
          "shell.execute_reply": "2021-07-09T00:57:30.191590Z"
        },
        "trusted": true,
        "id": "vVJ-AX4TDtkF",
        "outputId": "d8697bb5-da5c-467c-c2d7-a3a9f7186157"
      },
      "source": [
        "from lightgbm import LGBMClassifier\n",
        "lgbm= LGBMClassifier()\n",
        "lgbm.fit(X, Y)"
      ],
      "execution_count": null,
      "outputs": [
        {
          "output_type": "display_data",
          "data": {
            "text/plain": [
              "<IPython.core.display.HTML object>"
            ],
            "text/html": [
              "<style type='text/css'>\n",
              ".datatable table.frame { margin-bottom: 0; }\n",
              ".datatable table.frame thead { border-bottom: none; }\n",
              ".datatable table.frame tr.coltypes td {  color: #FFFFFF;  line-height: 6px;  padding: 0 0.5em;}\n",
              ".datatable .bool    { background: #DDDD99; }\n",
              ".datatable .object  { background: #565656; }\n",
              ".datatable .int     { background: #5D9E5D; }\n",
              ".datatable .float   { background: #4040CC; }\n",
              ".datatable .str     { background: #CC4040; }\n",
              ".datatable .time    { background: #40CC40; }\n",
              ".datatable .row_index {  background: var(--jp-border-color3);  border-right: 1px solid var(--jp-border-color0);  color: var(--jp-ui-font-color3);  font-size: 9px;}\n",
              ".datatable .frame tbody td { text-align: left; }\n",
              ".datatable .frame tr.coltypes .row_index {  background: var(--jp-border-color0);}\n",
              ".datatable th:nth-child(2) { padding-left: 12px; }\n",
              ".datatable .hellipsis {  color: var(--jp-cell-editor-border-color);}\n",
              ".datatable .vellipsis {  background: var(--jp-layout-color0);  color: var(--jp-cell-editor-border-color);}\n",
              ".datatable .na {  color: var(--jp-cell-editor-border-color);  font-size: 80%;}\n",
              ".datatable .sp {  opacity: 0.25;}\n",
              ".datatable .footer { font-size: 9px; }\n",
              ".datatable .frame_dimensions {  background: var(--jp-border-color3);  border-top: 1px solid var(--jp-border-color0);  color: var(--jp-ui-font-color3);  display: inline-block;  opacity: 0.6;  padding: 1px 10px 1px 5px;}\n",
              "</style>\n"
            ]
          },
          "metadata": {
            "tags": []
          }
        },
        {
          "output_type": "execute_result",
          "data": {
            "text/plain": [
              "LGBMClassifier()"
            ]
          },
          "metadata": {
            "tags": []
          },
          "execution_count": 25
        }
      ]
    },
    {
      "cell_type": "code",
      "metadata": {
        "execution": {
          "iopub.status.busy": "2021-07-09T00:57:30.196595Z",
          "iopub.execute_input": "2021-07-09T00:57:30.198641Z",
          "iopub.status.idle": "2021-07-09T00:58:16.052978Z",
          "shell.execute_reply.started": "2021-07-09T00:57:30.198585Z",
          "shell.execute_reply": "2021-07-09T00:58:16.052127Z"
        },
        "trusted": true,
        "id": "NWgOn4pHDtkG",
        "outputId": "d4c536d4-7dfc-431d-acd5-728d9d9e11d3"
      },
      "source": [
        "from sklearn.model_selection import GridSearchCV\n",
        "params= {'max_depth': [10,15,20],\n",
        "        'min_child_samples': [20,40,60],\n",
        "        'subsample': [0.8,1],\n",
        "        }\n",
        "\n",
        "grid= GridSearchCV(lgbm, param_grid= params) \n",
        "# GridSearchCV(모델, 파라매터= 딕셔너리) \n",
        "\n",
        "grid.fit(X, Y)\n",
        "# grid: 파라매터를 바꿔가며 lightgbm 18번 함"
      ],
      "execution_count": null,
      "outputs": [
        {
          "output_type": "execute_result",
          "data": {
            "text/plain": [
              "GridSearchCV(estimator=LGBMClassifier(),\n",
              "             param_grid={'max_depth': [10, 15, 20],\n",
              "                         'min_child_samples': [20, 40, 60],\n",
              "                         'subsample': [0.8, 1]})"
            ]
          },
          "metadata": {
            "tags": []
          },
          "execution_count": 26
        }
      ]
    },
    {
      "cell_type": "code",
      "metadata": {
        "execution": {
          "iopub.status.busy": "2021-07-09T00:58:16.057016Z",
          "iopub.execute_input": "2021-07-09T00:58:16.058937Z",
          "iopub.status.idle": "2021-07-09T00:58:16.067072Z",
          "shell.execute_reply.started": "2021-07-09T00:58:16.058889Z",
          "shell.execute_reply": "2021-07-09T00:58:16.065852Z"
        },
        "trusted": true,
        "id": "GgvENcHEDtkH",
        "outputId": "3becc9a3-12c8-49eb-9f5c-c900a95be316"
      },
      "source": [
        "grid.best_score_, grid.best_params_"
      ],
      "execution_count": null,
      "outputs": [
        {
          "output_type": "execute_result",
          "data": {
            "text/plain": [
              "(0.619021235787524,\n",
              " {'max_depth': 15, 'min_child_samples': 40, 'subsample': 0.8})"
            ]
          },
          "metadata": {
            "tags": []
          },
          "execution_count": 27
        }
      ]
    },
    {
      "cell_type": "code",
      "metadata": {
        "execution": {
          "iopub.status.busy": "2021-07-09T00:58:16.068129Z",
          "iopub.execute_input": "2021-07-09T00:58:16.068413Z",
          "iopub.status.idle": "2021-07-09T00:58:16.571886Z",
          "shell.execute_reply.started": "2021-07-09T00:58:16.068387Z",
          "shell.execute_reply": "2021-07-09T00:58:16.571064Z"
        },
        "trusted": true,
        "id": "EsXcsBJ8DtkH",
        "outputId": "3eb08305-33b8-4444-bd09-657020283e1c"
      },
      "source": [
        "lgbm_grid= LGBMClassifier(max_depth= 15, min_child_samples= 40, subsample= 0.8)\n",
        "# best_params_넣기\n",
        "lgbm_grid.fit(X, Y)"
      ],
      "execution_count": null,
      "outputs": [
        {
          "output_type": "execute_result",
          "data": {
            "text/plain": [
              "LGBMClassifier(max_depth=15, min_child_samples=40, subsample=0.8)"
            ]
          },
          "metadata": {
            "tags": []
          },
          "execution_count": 28
        }
      ]
    },
    {
      "cell_type": "code",
      "metadata": {
        "execution": {
          "iopub.status.busy": "2021-07-09T00:58:16.575749Z",
          "iopub.execute_input": "2021-07-09T00:58:16.577842Z",
          "iopub.status.idle": "2021-07-09T00:58:16.708098Z",
          "shell.execute_reply.started": "2021-07-09T00:58:16.577790Z",
          "shell.execute_reply": "2021-07-09T00:58:16.707261Z"
        },
        "trusted": true,
        "id": "GBMvzoLBDtkI",
        "outputId": "4c4ce5a7-db2c-4484-f21f-e3d4036c853a"
      },
      "source": [
        "lgbm_grid.score(X, Y)"
      ],
      "execution_count": null,
      "outputs": [
        {
          "output_type": "execute_result",
          "data": {
            "text/plain": [
              "0.6956157790101496"
            ]
          },
          "metadata": {
            "tags": []
          },
          "execution_count": 29
        }
      ]
    },
    {
      "cell_type": "markdown",
      "metadata": {
        "id": "sUSakgNyDtkJ"
      },
      "source": [
        "### Apply KFold\n",
        "##### class sklearn.model_selection.RepeatedStratifiedKFold(*, n_splits=5, n_repeats=10, random_state=None"
      ]
    },
    {
      "cell_type": "code",
      "metadata": {
        "execution": {
          "iopub.status.busy": "2021-07-09T02:07:41.187966Z",
          "iopub.execute_input": "2021-07-09T02:07:41.188806Z",
          "iopub.status.idle": "2021-07-09T02:07:53.616917Z",
          "shell.execute_reply.started": "2021-07-09T02:07:41.188717Z",
          "shell.execute_reply": "2021-07-09T02:07:53.615919Z"
        },
        "trusted": true,
        "id": "wpW5IaBDDtkJ",
        "outputId": "eac91627-f8c8-462f-d6bf-d3ed5d2ab1a2"
      },
      "source": [
        "from sklearn.model_selection import RepeatedStratifiedKFold\n",
        "kf= RepeatedStratifiedKFold(n_splits=5, n_repeats=5)\n",
        "\n",
        "from sklearn.model_selection import cross_val_score\n",
        "n_scores= cross_val_score(lgbm_grid, X, Y, scoring= 'accuracy', cv= kf)\n",
        "n_scores, n_scores.shape"
      ],
      "execution_count": null,
      "outputs": [
        {
          "output_type": "execute_result",
          "data": {
            "text/plain": [
              "(array([0.68462343, 0.68200837, 0.6881214 , 0.67085296, 0.6729461 ,\n",
              "        0.67050209, 0.67887029, 0.67974882, 0.6807954 , 0.67765568,\n",
              "        0.67887029, 0.67939331, 0.6807954 , 0.68341183, 0.67765568,\n",
              "        0.68462343, 0.68410042, 0.68131868, 0.68184197, 0.67556253,\n",
              "        0.68776151, 0.67468619, 0.69544741, 0.66771324, 0.68184197]),\n",
              " (25,))"
            ]
          },
          "metadata": {
            "tags": []
          },
          "execution_count": 35
        }
      ]
    },
    {
      "cell_type": "code",
      "metadata": {
        "execution": {
          "iopub.status.busy": "2021-07-09T02:10:06.488156Z",
          "iopub.execute_input": "2021-07-09T02:10:06.488519Z",
          "iopub.status.idle": "2021-07-09T02:10:06.495254Z",
          "shell.execute_reply.started": "2021-07-09T02:10:06.488487Z",
          "shell.execute_reply": "2021-07-09T02:10:06.494318Z"
        },
        "trusted": true,
        "id": "IsB9R_uIDtkK",
        "outputId": "1d635ebb-1144-4cd2-82ca-1235d516d5d4"
      },
      "source": [
        "import numpy as np\n",
        "np.mean(n_scores), np.std(n_scores)"
      ],
      "execution_count": null,
      "outputs": [
        {
          "output_type": "execute_result",
          "data": {
            "text/plain": [
              "(0.6800459353358338, 0.0059541622077198255)"
            ]
          },
          "metadata": {
            "tags": []
          },
          "execution_count": 37
        }
      ]
    },
    {
      "cell_type": "code",
      "metadata": {
        "execution": {
          "iopub.status.busy": "2021-07-09T00:58:16.712057Z",
          "iopub.execute_input": "2021-07-09T00:58:16.714147Z",
          "iopub.status.idle": "2021-07-09T00:58:16.826176Z",
          "shell.execute_reply.started": "2021-07-09T00:58:16.714098Z",
          "shell.execute_reply": "2021-07-09T00:58:16.825363Z"
        },
        "trusted": true,
        "id": "i0OqMzPvDtkL",
        "outputId": "90b2d92d-6900-4c10-90a7-7a84df3fa614"
      },
      "source": [
        "lgbm.score(X, Y)\n",
        "# model, params가 똑같은데 grid.best_score_와 다른 이유? \n",
        "# subsample= 0.8만 줘서 데이터 양이 다름"
      ],
      "execution_count": null,
      "outputs": [
        {
          "output_type": "execute_result",
          "data": {
            "text/plain": [
              "0.6987548393847441"
            ]
          },
          "metadata": {
            "tags": []
          },
          "execution_count": 30
        }
      ]
    },
    {
      "cell_type": "code",
      "metadata": {
        "execution": {
          "iopub.status.busy": "2021-07-09T00:58:16.830142Z",
          "iopub.execute_input": "2021-07-09T00:58:16.832651Z",
          "iopub.status.idle": "2021-07-09T00:58:16.841849Z",
          "shell.execute_reply.started": "2021-07-09T00:58:16.832594Z",
          "shell.execute_reply": "2021-07-09T00:58:16.840987Z"
        },
        "trusted": true,
        "id": "hW4S-1zFDtkM",
        "outputId": "dc3ef9c2-6c21-4836-d628-a5b1f79c8790"
      },
      "source": [
        "lgbm_grid.feature_importances_"
      ],
      "execution_count": null,
      "outputs": [
        {
          "output_type": "execute_result",
          "data": {
            "text/plain": [
              "array([ 543,  789, 3249, 3300, 1780,  159,  310,  313,  466,  369,  249,\n",
              "        161,  141,  104,   59,    8,    0,    0,    0,    0,    0,    0,\n",
              "          0,    0,    0,    0,    0,    0,    0,    0,    0,    0,    0,\n",
              "          0,    0,    0,    0,    0,    0,    0,    0,    0,    0,    0],\n",
              "      dtype=int32)"
            ]
          },
          "metadata": {
            "tags": []
          },
          "execution_count": 31
        }
      ]
    },
    {
      "cell_type": "code",
      "metadata": {
        "execution": {
          "iopub.status.busy": "2021-07-09T00:58:16.843451Z",
          "iopub.execute_input": "2021-07-09T00:58:16.844267Z",
          "iopub.status.idle": "2021-07-09T00:58:17.180459Z",
          "shell.execute_reply.started": "2021-07-09T00:58:16.844219Z",
          "shell.execute_reply": "2021-07-09T00:58:17.179284Z"
        },
        "trusted": true,
        "id": "O2e-DA7oDtkO",
        "outputId": "9fe5d457-2343-4b3c-8561-6c30daf7671c"
      },
      "source": [
        "from lightgbm import plot_importance\n",
        "plot_importance(lgbm_grid)\n",
        "# X의 컬럼 이름 순서 = columns 0~15"
      ],
      "execution_count": null,
      "outputs": [
        {
          "output_type": "execute_result",
          "data": {
            "text/plain": [
              "<AxesSubplot:title={'center':'Feature importance'}, xlabel='Feature importance', ylabel='Features'>"
            ]
          },
          "metadata": {
            "tags": []
          },
          "execution_count": 32
        },
        {
          "output_type": "display_data",
          "data": {
            "text/plain": [
              "<Figure size 432x288 with 1 Axes>"
            ],
            "image/png": "[encoded data removed]"
          },
          "metadata": {
            "tags": [],
            "needs_background": "light"
          }
        }
      ]
    },
    {
      "cell_type": "code",
      "metadata": {
        "execution": {
          "iopub.status.busy": "2021-07-09T00:58:17.181962Z",
          "iopub.execute_input": "2021-07-09T00:58:17.182344Z",
          "iopub.status.idle": "2021-07-09T00:58:17.326528Z",
          "shell.execute_reply.started": "2021-07-09T00:58:17.182309Z",
          "shell.execute_reply": "2021-07-09T00:58:17.325411Z"
        },
        "trusted": true,
        "id": "UaZcfgicDtkQ",
        "outputId": "5cb83821-1e72-476c-b7d4-8713d1f4e343"
      },
      "source": [
        "Y_pred= lgbm_grid.predict(X)\n",
        "# 원래 값과 예측한 값을 비교하기. f1-score\n",
        "from sklearn import metrics\n",
        "print(metrics.classification_report(Y, Y_pred))\n",
        "# print하면 더 깔끔하게 나옴\n",
        "# f1-score의 accuracy확인"
      ],
      "execution_count": null,
      "outputs": [
        {
          "output_type": "stream",
          "text": [
            "              precision    recall  f1-score   support\n",
            "\n",
            "           1       0.78      0.26      0.39       755\n",
            "           2       0.54      0.32      0.40      1597\n",
            "           3       0.72      0.15      0.25      1209\n",
            "           4       0.71      0.96      0.82      5996\n",
            "\n",
            "    accuracy                           0.70      9557\n",
            "   macro avg       0.69      0.42      0.46      9557\n",
            "weighted avg       0.69      0.70      0.64      9557\n",
            "\n"
          ],
          "name": "stdout"
        }
      ]
    },
    {
      "cell_type": "code",
      "metadata": {
        "id": "Rw4tLVArDtkS"
      },
      "source": [
        ""
      ],
      "execution_count": null,
      "outputs": []
    }
  ]
}