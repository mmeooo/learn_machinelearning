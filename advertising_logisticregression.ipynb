{
 "cells": [
  {
   "cell_type": "markdown",
   "id": "cc047a62",
   "metadata": {},
   "source": [
    "### 정보단계: x,y변수 선택(숫자 가능)\n",
    "### 교육단계: data split, model교육시키기, 4개 data를 predict, metrics으로 확인\n",
    "### 서비스단계: pickle로 만들어 불러오기"
   ]
  },
  {
   "cell_type": "code",
   "execution_count": 1,
   "id": "58cb26a4",
   "metadata": {},
   "outputs": [],
   "source": [
    "from sklearn import datasets"
   ]
  },
  {
   "cell_type": "code",
   "execution_count": 2,
   "id": "36ffd2a9",
   "metadata": {},
   "outputs": [],
   "source": [
    "import pandas as pd\n",
    "import numpy as np\n",
    "import matplotlib.pyplot as plt\n",
    "import seaborn as sns"
   ]
  },
  {
   "cell_type": "code",
   "execution_count": 3,
   "id": "f1d8c7d6",
   "metadata": {},
   "outputs": [
    {
     "name": "stdout",
     "output_type": "stream",
     "text": [
      "<class 'pandas.core.frame.DataFrame'>\n",
      "RangeIndex: 1000 entries, 0 to 999\n",
      "Data columns (total 10 columns):\n",
      " #   Column                    Non-Null Count  Dtype         \n",
      "---  ------                    --------------  -----         \n",
      " 0   Daily Time Spent on Site  1000 non-null   float64       \n",
      " 1   Age                       1000 non-null   int64         \n",
      " 2   Area Income               1000 non-null   float64       \n",
      " 3   Daily Internet Usage      1000 non-null   float64       \n",
      " 4   Ad Topic Line             1000 non-null   object        \n",
      " 5   City                      1000 non-null   object        \n",
      " 6   Male                      1000 non-null   int64         \n",
      " 7   Country                   1000 non-null   object        \n",
      " 8   Timestamp                 1000 non-null   datetime64[ns]\n",
      " 9   Clicked on Ad             1000 non-null   int64         \n",
      "dtypes: datetime64[ns](1), float64(3), int64(3), object(3)\n",
      "memory usage: 78.2+ KB\n"
     ]
    }
   ],
   "source": [
    "df= pd.read_excel('./files/advertising.xls')\n",
    "df.info()"
   ]
  },
  {
   "cell_type": "markdown",
   "id": "6284251b",
   "metadata": {},
   "source": [
    "숫자 변수 선택\n",
    "* y: Clicked on Ad\n",
    "* x: Daily Time Spent on Site, Age, Area Income, Daily Internet Usage, Male"
   ]
  },
  {
   "cell_type": "code",
   "execution_count": 4,
   "id": "3d0692d6",
   "metadata": {},
   "outputs": [
    {
     "data": {
      "text/plain": [
       "(1000, 10)"
      ]
     },
     "execution_count": 4,
     "metadata": {},
     "output_type": "execute_result"
    }
   ],
   "source": [
    "df.shape\n",
    "# 1000행 10열\n",
    "df"
   ]
  },
  {
   "cell_type": "code",
   "execution_count": 5,
   "id": "ead42b9a",
   "metadata": {},
   "outputs": [],
   "source": [
    "x= df[['Daily Time Spent on Site', 'Age', 'Area Income',\n",
    "       'Daily Internet Usage','Male']]\n",
    "y= df[['Clicked on Ad']]"
   ]
  },
  {
   "cell_type": "code",
   "execution_count": 6,
   "id": "512d5659",
   "metadata": {},
   "outputs": [
    {
     "data": {
      "text/plain": [
       "((1000, 5), (1000, 1))"
      ]
     },
     "execution_count": 6,
     "metadata": {},
     "output_type": "execute_result"
    }
   ],
   "source": [
    "x.shape, y.shape\n",
    "# x변수, y변수 개수 및 데이터 수"
   ]
  },
  {
   "cell_type": "code",
   "execution_count": 7,
   "id": "045cf600",
   "metadata": {},
   "outputs": [],
   "source": [
    "from sklearn.model_selection import train_test_split"
   ]
  },
  {
   "cell_type": "code",
   "execution_count": 8,
   "id": "694bf04d",
   "metadata": {},
   "outputs": [],
   "source": [
    "x_train, x_test, y_train, y_test= train_test_split(x, y)\n",
    "# 데이터 나누기"
   ]
  },
  {
   "cell_type": "code",
   "execution_count": 9,
   "id": "eda205f8",
   "metadata": {},
   "outputs": [
    {
     "data": {
      "text/plain": [
       "((750, 5), (250, 5), (750, 1), (250, 1))"
      ]
     },
     "execution_count": 9,
     "metadata": {},
     "output_type": "execute_result"
    }
   ],
   "source": [
    "x_train.shape, x_test.shape, y_train.shape, y_test.shape\n",
    "# train은 750개, test는 250개로 나눔"
   ]
  },
  {
   "cell_type": "code",
   "execution_count": 10,
   "id": "2c0c141d",
   "metadata": {},
   "outputs": [],
   "source": [
    "from sklearn.linear_model import LogisticRegression"
   ]
  },
  {
   "cell_type": "code",
   "execution_count": 11,
   "id": "29f2cce6",
   "metadata": {},
   "outputs": [],
   "source": [
    "log= LogisticRegression()"
   ]
  },
  {
   "cell_type": "code",
   "execution_count": 12,
   "id": "557ee554",
   "metadata": {},
   "outputs": [
    {
     "name": "stderr",
     "output_type": "stream",
     "text": [
      "c:\\python\\python36\\lib\\site-packages\\sklearn\\utils\\validation.py:63: DataConversionWarning: A column-vector y was passed when a 1d array was expected. Please change the shape of y to (n_samples, ), for example using ravel().\n",
      "  return f(*args, **kwargs)\n"
     ]
    },
    {
     "data": {
      "text/plain": [
       "LogisticRegression()"
      ]
     },
     "execution_count": 12,
     "metadata": {},
     "output_type": "execute_result"
    }
   ],
   "source": [
    "log.fit(x_train, y_train)"
   ]
  },
  {
   "cell_type": "code",
   "execution_count": 13,
   "id": "c5bd7065",
   "metadata": {},
   "outputs": [
    {
     "data": {
      "text/plain": [
       "(array([[-6.34611214e-02,  2.71972507e-01, -1.79438322e-05,\n",
       "         -2.44972260e-02,  2.34082606e-03]]),\n",
       " array([0.00543503]))"
      ]
     },
     "execution_count": 13,
     "metadata": {},
     "output_type": "execute_result"
    }
   ],
   "source": [
    "log.coef_, log.intercept_"
   ]
  },
  {
   "cell_type": "code",
   "execution_count": 14,
   "id": "8e7ba7e0",
   "metadata": {},
   "outputs": [
    {
     "data": {
      "text/plain": [
       "0.901"
      ]
     },
     "execution_count": 14,
     "metadata": {},
     "output_type": "execute_result"
    }
   ],
   "source": [
    "log.score(x,y)"
   ]
  },
  {
   "cell_type": "code",
   "execution_count": 15,
   "id": "b62e3847",
   "metadata": {},
   "outputs": [
    {
     "data": {
      "text/plain": [
       "0.9053333333333333"
      ]
     },
     "execution_count": 15,
     "metadata": {},
     "output_type": "execute_result"
    }
   ],
   "source": [
    "log.score(x_train, y_train)"
   ]
  },
  {
   "cell_type": "code",
   "execution_count": 16,
   "id": "99ad2ce2",
   "metadata": {},
   "outputs": [
    {
     "data": {
      "text/plain": [
       "0.888"
      ]
     },
     "execution_count": 16,
     "metadata": {},
     "output_type": "execute_result"
    }
   ],
   "source": [
    "log.score(x_test, y_test)"
   ]
  },
  {
   "cell_type": "code",
   "execution_count": 17,
   "id": "d27b68b1",
   "metadata": {},
   "outputs": [
    {
     "data": {
      "text/plain": [
       "array([1, 0, 0, 1, 0, 1, 1, 0, 1, 0, 1, 1, 0, 1, 1, 0, 0, 0, 1, 1, 0, 1,\n",
       "       1, 0, 0, 0, 0, 0, 0, 1, 0, 1, 1, 0, 0, 0, 1, 1, 1, 0, 0, 0, 0, 1,\n",
       "       1, 1, 1, 0, 0, 1, 1, 1, 1, 0, 0, 1, 0, 1, 0, 0, 0, 1, 1, 1, 1, 1,\n",
       "       0, 0, 1, 0, 1, 0, 0, 1, 0, 0, 1, 1, 1, 1, 0, 1, 1, 1, 0, 1, 0, 0,\n",
       "       1, 1, 0, 0, 1, 0, 0, 1, 1, 1, 0, 0, 0, 0, 1, 0, 0, 1, 1, 0, 0, 0,\n",
       "       0, 1, 0, 1, 1, 1, 1, 0, 1, 0, 1, 0, 0, 0, 0, 0, 1, 1, 1, 0, 1, 1,\n",
       "       0, 1, 1, 1, 1, 1, 0, 0, 0, 1, 0, 1, 1, 1, 1, 1, 1, 0, 1, 0, 0, 0,\n",
       "       1, 0, 1, 0, 0, 1, 0, 1, 1, 0, 0, 1, 1, 1, 0, 1, 1, 0, 0, 1, 0, 1,\n",
       "       0, 0, 1, 0, 0, 0, 0, 1, 0, 0, 1, 0, 0, 1, 1, 0, 1, 0, 0, 0, 0, 1,\n",
       "       0, 0, 0, 1, 1, 1, 1, 1, 1, 0, 0, 0, 1, 0, 0, 1, 0, 0, 1, 0, 0, 0,\n",
       "       1, 0, 0, 1, 0, 1, 0, 1, 0, 0, 1, 1, 0, 1, 1, 1, 0, 0, 1, 0, 0, 1,\n",
       "       1, 0, 1, 1, 1, 1, 1, 0], dtype=int64)"
      ]
     },
     "execution_count": 17,
     "metadata": {},
     "output_type": "execute_result"
    }
   ],
   "source": [
    "pred= log.predict(x_test)\n",
    "pred"
   ]
  },
  {
   "cell_type": "code",
   "execution_count": 18,
   "id": "43c8f1d2",
   "metadata": {},
   "outputs": [],
   "source": [
    "from sklearn import metrics"
   ]
  },
  {
   "cell_type": "code",
   "execution_count": 20,
   "id": "58306a43",
   "metadata": {},
   "outputs": [
    {
     "name": "stdout",
     "output_type": "stream",
     "text": [
      "              precision    recall  f1-score   support\n",
      "\n",
      "           0       0.86      0.92      0.89       118\n",
      "           1       0.92      0.86      0.89       132\n",
      "\n",
      "    accuracy                           0.89       250\n",
      "   macro avg       0.89      0.89      0.89       250\n",
      "weighted avg       0.89      0.89      0.89       250\n",
      "\n"
     ]
    }
   ],
   "source": [
    "print(metrics.classification_report(y_test, pred))"
   ]
  },
  {
   "cell_type": "code",
   "execution_count": 21,
   "id": "476b8f91",
   "metadata": {},
   "outputs": [
    {
     "data": {
      "text/plain": [
       "array([[108,  10],\n",
       "       [ 18, 114]], dtype=int64)"
      ]
     },
     "execution_count": 21,
     "metadata": {},
     "output_type": "execute_result"
    }
   ],
   "source": [
    "metrics.confusion_matrix(y_test, pred)"
   ]
  }
 ],
 "metadata": {
  "kernelspec": {
   "display_name": "Python 3",
   "language": "python",
   "name": "python3"
  },
  "language_info": {
   "codemirror_mode": {
    "name": "ipython",
    "version": 3
   },
   "file_extension": ".py",
   "mimetype": "text/x-python",
   "name": "python",
   "nbconvert_exporter": "python",
   "pygments_lexer": "ipython3",
   "version": "3.6.4"
  }
 },
 "nbformat": 4,
 "nbformat_minor": 5
}
