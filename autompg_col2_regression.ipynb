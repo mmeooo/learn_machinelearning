{
 "cells": [
  {
   "cell_type": "code",
   "execution_count": 1,
   "id": "4eb700ba",
   "metadata": {},
   "outputs": [],
   "source": [
    "import sklearn"
   ]
  },
  {
   "cell_type": "code",
   "execution_count": 2,
   "id": "6fd2ade0",
   "metadata": {},
   "outputs": [],
   "source": [
    "#!python -m pip install --upgrade pip"
   ]
  },
  {
   "cell_type": "code",
   "execution_count": 3,
   "id": "7fc9da36",
   "metadata": {},
   "outputs": [],
   "source": [
    "#!python -m pip install sklearn"
   ]
  },
  {
   "cell_type": "code",
   "execution_count": 4,
   "id": "a2cc0317",
   "metadata": {},
   "outputs": [],
   "source": [
    "%load_ext autoreload\n",
    "%autoreload 2"
   ]
  },
  {
   "cell_type": "code",
   "execution_count": 5,
   "id": "cf8a8096",
   "metadata": {},
   "outputs": [],
   "source": [
    "import pandas as pd"
   ]
  },
  {
   "cell_type": "code",
   "execution_count": 6,
   "id": "cf894798",
   "metadata": {},
   "outputs": [
    {
     "name": "stdout",
     "output_type": "stream",
     "text": [
      " C 드라이브의 볼륨에는 이름이 없습니다.\n",
      " 볼륨 일련 번호: 3A24-1E03\n",
      "\n",
      " C:\\Develops\\test_machinelearning\\files 디렉터리\n",
      "\n",
      "2021-06-29  오후 04:03            21,913 auto-mpg.csv\n",
      "               1개 파일              21,913 바이트\n",
      "               0개 디렉터리  150,043,119,616 바이트 남음\n"
     ]
    }
   ],
   "source": [
    "!dir .\\files\\auto-mpg.csv"
   ]
  },
  {
   "cell_type": "code",
   "execution_count": 7,
   "id": "fc6c3d52",
   "metadata": {},
   "outputs": [
    {
     "name": "stdout",
     "output_type": "stream",
     "text": [
      "<class 'pandas.core.frame.DataFrame'>\n",
      "RangeIndex: 398 entries, 0 to 397\n",
      "Data columns (total 9 columns):\n",
      " #   Column  Non-Null Count  Dtype  \n",
      "---  ------  --------------  -----  \n",
      " 0   0       398 non-null    float64\n",
      " 1   1       398 non-null    int64  \n",
      " 2   2       398 non-null    float64\n",
      " 3   3       398 non-null    object \n",
      " 4   4       398 non-null    float64\n",
      " 5   5       398 non-null    float64\n",
      " 6   6       398 non-null    int64  \n",
      " 7   7       398 non-null    int64  \n",
      " 8   8       398 non-null    object \n",
      "dtypes: float64(4), int64(3), object(2)\n",
      "memory usage: 28.1+ KB\n"
     ]
    }
   ],
   "source": [
    "pd_data= pd.read_csv('./files/auto-mpg.csv', header= None)\n",
    "pd_data.info()\n",
    "# 선형상관계수 나올 컬럼 고르기-> int, float,,\n",
    "# object는 범주형이라 회귀분석에 쓰이지 못함"
   ]
  },
  {
   "cell_type": "code",
   "execution_count": 8,
   "id": "c9929c5c",
   "metadata": {},
   "outputs": [
    {
     "data": {
      "text/plain": [
       "(398, 9)"
      ]
     },
     "execution_count": 8,
     "metadata": {},
     "output_type": "execute_result"
    }
   ],
   "source": [
    "pd_data.shape"
   ]
  },
  {
   "cell_type": "code",
   "execution_count": 9,
   "id": "8df5ebb9",
   "metadata": {},
   "outputs": [],
   "source": [
    "pd_data.columns = ['mpg','cylinders','displacement','horsepower','weight',\n",
    "              'acceleration','model year','origin','name']"
   ]
  },
  {
   "cell_type": "code",
   "execution_count": 10,
   "id": "3947f63b",
   "metadata": {},
   "outputs": [],
   "source": [
    "x= pd_data[['weight', 'cylinders']]"
   ]
  },
  {
   "cell_type": "code",
   "execution_count": 11,
   "id": "b96bcb36",
   "metadata": {},
   "outputs": [],
   "source": [
    "y= pd_data[['mpg']]"
   ]
  },
  {
   "cell_type": "code",
   "execution_count": 12,
   "id": "ee44a42e",
   "metadata": {},
   "outputs": [
    {
     "data": {
      "text/plain": [
       "((398, 2), (398, 1))"
      ]
     },
     "execution_count": 12,
     "metadata": {},
     "output_type": "execute_result"
    }
   ],
   "source": [
    "x.shape, y.shape"
   ]
  },
  {
   "cell_type": "code",
   "execution_count": 13,
   "id": "44906c0c",
   "metadata": {},
   "outputs": [],
   "source": [
    "from sklearn.model_selection import train_test_split"
   ]
  },
  {
   "cell_type": "code",
   "execution_count": 14,
   "id": "0a5be1ad",
   "metadata": {},
   "outputs": [
    {
     "data": {
      "text/plain": [
       "((298, 2), (100, 2), (298, 1), (100, 1))"
      ]
     },
     "execution_count": 14,
     "metadata": {},
     "output_type": "execute_result"
    }
   ],
   "source": [
    "X_train, X_test, Y_train, Y_test= train_test_split(x, y)\n",
    "X_train.shape, X_test.shape, Y_train.shape, Y_test.shape"
   ]
  },
  {
   "cell_type": "code",
   "execution_count": 15,
   "id": "89b7d1a4",
   "metadata": {},
   "outputs": [],
   "source": [
    "from sklearn.linear_model import LinearRegression"
   ]
  },
  {
   "cell_type": "code",
   "execution_count": 16,
   "id": "e4934f8c",
   "metadata": {},
   "outputs": [],
   "source": [
    "lr= LinearRegression() # 교육시키기"
   ]
  },
  {
   "cell_type": "code",
   "execution_count": 17,
   "id": "5e177ae5",
   "metadata": {},
   "outputs": [
    {
     "data": {
      "text/plain": [
       "LinearRegression()"
      ]
     },
     "execution_count": 17,
     "metadata": {},
     "output_type": "execute_result"
    }
   ],
   "source": [
    "#lr.fit(x,y)\n",
    "lr.fit(X_train, Y_train)"
   ]
  },
  {
   "cell_type": "code",
   "execution_count": 18,
   "id": "872cc40b",
   "metadata": {},
   "outputs": [
    {
     "data": {
      "text/plain": [
       "(array([[-0.007098  , -0.33713196]]), array([46.56089577]))"
      ]
     },
     "execution_count": 18,
     "metadata": {},
     "output_type": "execute_result"
    }
   ],
   "source": [
    "# split data with 1 column\n",
    "lr.coef_, lr.intercept_"
   ]
  },
  {
   "cell_type": "code",
   "execution_count": 19,
   "id": "e941f537",
   "metadata": {},
   "outputs": [
    {
     "data": {
      "text/plain": [
       "0.6948961005346803"
      ]
     },
     "execution_count": 19,
     "metadata": {},
     "output_type": "execute_result"
    }
   ],
   "source": [
    "# check with total data\n",
    "lr.score(x,y)"
   ]
  },
  {
   "cell_type": "markdown",
   "id": "04fa63b3",
   "metadata": {},
   "source": [
    "y= -( )x1+ ( )x2+ ( ) -> 'weight', 'cylinders', 'mpg'"
   ]
  },
  {
   "cell_type": "code",
   "execution_count": 20,
   "id": "2fd9f4b5",
   "metadata": {},
   "outputs": [
    {
     "data": {
      "text/html": [
       "<div>\n",
       "<style scoped>\n",
       "    .dataframe tbody tr th:only-of-type {\n",
       "        vertical-align: middle;\n",
       "    }\n",
       "\n",
       "    .dataframe tbody tr th {\n",
       "        vertical-align: top;\n",
       "    }\n",
       "\n",
       "    .dataframe thead th {\n",
       "        text-align: right;\n",
       "    }\n",
       "</style>\n",
       "<table border=\"1\" class=\"dataframe\">\n",
       "  <thead>\n",
       "    <tr style=\"text-align: right;\">\n",
       "      <th></th>\n",
       "      <th>weight</th>\n",
       "      <th>cylinders</th>\n",
       "      <th>mpg</th>\n",
       "    </tr>\n",
       "  </thead>\n",
       "  <tbody>\n",
       "    <tr>\n",
       "      <th>0</th>\n",
       "      <td>3504.0</td>\n",
       "      <td>8</td>\n",
       "      <td>18.0</td>\n",
       "    </tr>\n",
       "    <tr>\n",
       "      <th>1</th>\n",
       "      <td>3693.0</td>\n",
       "      <td>8</td>\n",
       "      <td>15.0</td>\n",
       "    </tr>\n",
       "    <tr>\n",
       "      <th>2</th>\n",
       "      <td>3436.0</td>\n",
       "      <td>8</td>\n",
       "      <td>18.0</td>\n",
       "    </tr>\n",
       "    <tr>\n",
       "      <th>3</th>\n",
       "      <td>3433.0</td>\n",
       "      <td>8</td>\n",
       "      <td>16.0</td>\n",
       "    </tr>\n",
       "    <tr>\n",
       "      <th>4</th>\n",
       "      <td>3449.0</td>\n",
       "      <td>8</td>\n",
       "      <td>17.0</td>\n",
       "    </tr>\n",
       "    <tr>\n",
       "      <th>...</th>\n",
       "      <td>...</td>\n",
       "      <td>...</td>\n",
       "      <td>...</td>\n",
       "    </tr>\n",
       "    <tr>\n",
       "      <th>393</th>\n",
       "      <td>2790.0</td>\n",
       "      <td>4</td>\n",
       "      <td>27.0</td>\n",
       "    </tr>\n",
       "    <tr>\n",
       "      <th>394</th>\n",
       "      <td>2130.0</td>\n",
       "      <td>4</td>\n",
       "      <td>44.0</td>\n",
       "    </tr>\n",
       "    <tr>\n",
       "      <th>395</th>\n",
       "      <td>2295.0</td>\n",
       "      <td>4</td>\n",
       "      <td>32.0</td>\n",
       "    </tr>\n",
       "    <tr>\n",
       "      <th>396</th>\n",
       "      <td>2625.0</td>\n",
       "      <td>4</td>\n",
       "      <td>28.0</td>\n",
       "    </tr>\n",
       "    <tr>\n",
       "      <th>397</th>\n",
       "      <td>2720.0</td>\n",
       "      <td>4</td>\n",
       "      <td>31.0</td>\n",
       "    </tr>\n",
       "  </tbody>\n",
       "</table>\n",
       "<p>398 rows × 3 columns</p>\n",
       "</div>"
      ],
      "text/plain": [
       "     weight  cylinders   mpg\n",
       "0    3504.0          8  18.0\n",
       "1    3693.0          8  15.0\n",
       "2    3436.0          8  18.0\n",
       "3    3433.0          8  16.0\n",
       "4    3449.0          8  17.0\n",
       "..      ...        ...   ...\n",
       "393  2790.0          4  27.0\n",
       "394  2130.0          4  44.0\n",
       "395  2295.0          4  32.0\n",
       "396  2625.0          4  28.0\n",
       "397  2720.0          4  31.0\n",
       "\n",
       "[398 rows x 3 columns]"
      ]
     },
     "execution_count": 20,
     "metadata": {},
     "output_type": "execute_result"
    }
   ],
   "source": [
    "pd_data[['weight', 'cylinders', 'mpg']]"
   ]
  },
  {
   "cell_type": "code",
   "execution_count": 21,
   "id": "37d6e6bb",
   "metadata": {},
   "outputs": [
    {
     "name": "stdout",
     "output_type": "stream",
     "text": [
      "<class 'pandas.core.frame.DataFrame'>\n",
      "RangeIndex: 398 entries, 0 to 397\n",
      "Data columns (total 9 columns):\n",
      " #   Column        Non-Null Count  Dtype  \n",
      "---  ------        --------------  -----  \n",
      " 0   mpg           398 non-null    float64\n",
      " 1   cylinders     398 non-null    int64  \n",
      " 2   displacement  398 non-null    float64\n",
      " 3   horsepower    398 non-null    object \n",
      " 4   weight        398 non-null    float64\n",
      " 5   acceleration  398 non-null    float64\n",
      " 6   model year    398 non-null    int64  \n",
      " 7   origin        398 non-null    int64  \n",
      " 8   name          398 non-null    object \n",
      "dtypes: float64(4), int64(3), object(2)\n",
      "memory usage: 28.1+ KB\n"
     ]
    }
   ],
   "source": [
    "pd_data.info()"
   ]
  },
  {
   "cell_type": "code",
   "execution_count": 22,
   "id": "6dbe2933",
   "metadata": {},
   "outputs": [
    {
     "data": {
      "text/plain": [
       "0.6948961005346803"
      ]
     },
     "execution_count": 22,
     "metadata": {},
     "output_type": "execute_result"
    }
   ],
   "source": [
    "# check with total data\n",
    "lr.score(x,y) "
   ]
  },
  {
   "cell_type": "code",
   "execution_count": 23,
   "id": "67ee7e59",
   "metadata": {},
   "outputs": [
    {
     "data": {
      "text/plain": [
       "0.6834321579001366"
      ]
     },
     "execution_count": 23,
     "metadata": {},
     "output_type": "execute_result"
    }
   ],
   "source": [
    "# check with a part train data\n",
    "lr.score(X_train, Y_train) "
   ]
  },
  {
   "cell_type": "code",
   "execution_count": 24,
   "id": "c148f122",
   "metadata": {},
   "outputs": [
    {
     "data": {
      "text/plain": [
       "0.7311117084448053"
      ]
     },
     "execution_count": 24,
     "metadata": {},
     "output_type": "execute_result"
    }
   ],
   "source": [
    "# check with a part of test data\n",
    "lr.score(X_test, Y_test) "
   ]
  },
  {
   "cell_type": "code",
   "execution_count": 25,
   "id": "e1eac678",
   "metadata": {},
   "outputs": [
    {
     "data": {
      "text/plain": [
       "array([[18.99245239]])"
      ]
     },
     "execution_count": 25,
     "metadata": {},
     "output_type": "execute_result"
    }
   ],
   "source": [
    "# 'weight' -> 'cylinders'\n",
    "lr.predict([[3504.0, 8]])"
   ]
  },
  {
   "cell_type": "code",
   "execution_count": 26,
   "id": "2f0b4902",
   "metadata": {},
   "outputs": [
    {
     "data": {
      "text/plain": [
       "array([[25.40895136]])"
      ]
     },
     "execution_count": 26,
     "metadata": {},
     "output_type": "execute_result"
    }
   ],
   "source": [
    "lr.predict([[2790.0, 4]])"
   ]
  },
  {
   "cell_type": "code",
   "execution_count": 27,
   "id": "2fc4da25",
   "metadata": {},
   "outputs": [
    {
     "data": {
      "text/plain": [
       "21.971995399999997"
      ]
     },
     "execution_count": 27,
     "metadata": {},
     "output_type": "execute_result"
    }
   ],
   "source": [
    "(-0.00767661*2790.0) + (-0.73190678*4 )+ 46.31736442"
   ]
  },
  {
   "cell_type": "code",
   "execution_count": 28,
   "id": "d37aa689",
   "metadata": {},
   "outputs": [
    {
     "data": {
      "text/plain": [
       "sklearn.linear_model._base.LinearRegression"
      ]
     },
     "execution_count": 28,
     "metadata": {},
     "output_type": "execute_result"
    }
   ],
   "source": [
    "type(lr)"
   ]
  },
  {
   "cell_type": "code",
   "execution_count": 29,
   "id": "c752b01e",
   "metadata": {},
   "outputs": [],
   "source": [
    "import pickle"
   ]
  },
  {
   "cell_type": "code",
   "execution_count": 31,
   "id": "92b984db",
   "metadata": {},
   "outputs": [],
   "source": [
    "# 피클을 이용해 파일로 저장하기, 파일을 다루는 open명령 써야함\n",
    "pickle.dump(lr, open('./saves/autompg_lr.pkl', 'wb'))"
   ]
  },
  {
   "cell_type": "code",
   "execution_count": 40,
   "id": "90459ad4",
   "metadata": {},
   "outputs": [
    {
     "data": {
      "text/plain": [
       "(298, 1)"
      ]
     },
     "execution_count": 40,
     "metadata": {},
     "output_type": "execute_result"
    }
   ],
   "source": [
    "y_predict= lr.predict(X_train)\n",
    "y_predict.shape"
   ]
  },
  {
   "cell_type": "code",
   "execution_count": 41,
   "id": "625424ce",
   "metadata": {},
   "outputs": [
    {
     "data": {
      "text/plain": [
       "array([[31.90362023],\n",
       "       [13.94577527],\n",
       "       [18.06256859],\n",
       "       [24.94758144],\n",
       "       [31.26480034],\n",
       "       [28.92246075],\n",
       "       [29.91618058],\n",
       "       [30.09363055],\n",
       "       [23.63449763],\n",
       "       [30.12912054],\n",
       "       [30.51951047],\n",
       "       [22.00191195],\n",
       "       [29.14249871],\n",
       "       [29.03602873],\n",
       "       [29.49030065],\n",
       "       [25.74260326],\n",
       "       [24.13135754],\n",
       "       [19.47511631],\n",
       "       [32.18754019],\n",
       "       [10.73038182],\n",
       "       [32.18044219],\n",
       "       [31.46354431],\n",
       "       [24.27327155],\n",
       "       [12.73911548],\n",
       "       [19.49641031],\n",
       "       [28.28364086],\n",
       "       [31.61970028],\n",
       "       [13.98836326],\n",
       "       [26.24651521],\n",
       "       [22.10842789],\n",
       "       [19.97907422],\n",
       "       [18.52398448],\n",
       "       [18.27555452],\n",
       "       [25.84197525],\n",
       "       [16.60752481],\n",
       "       [19.55314833],\n",
       "       [26.65110114],\n",
       "       [21.59027398],\n",
       "       [31.40676032],\n",
       "       [29.27736069],\n",
       "       [28.97214674],\n",
       "       [16.67850479],\n",
       "       [26.26071121],\n",
       "       [28.12038689],\n",
       "       [30.12202254],\n",
       "       [23.15893171],\n",
       "       [30.24978652],\n",
       "       [25.33797137],\n",
       "       [29.88069058],\n",
       "       [30.14331654],\n",
       "       [16.39458484],\n",
       "       [29.89488658],\n",
       "       [25.7638513 ],\n",
       "       [19.38284233],\n",
       "       [14.47102718],\n",
       "       [31.46354431],\n",
       "       [20.3339282 ],\n",
       "       [10.97881178],\n",
       "       [13.25726939],\n",
       "       [27.36090102],\n",
       "       [14.8898091 ],\n",
       "       [15.17372905],\n",
       "       [15.74156896],\n",
       "       [29.2063807 ],\n",
       "       [17.42379467],\n",
       "       [23.63449763],\n",
       "       [30.30657051],\n",
       "       [24.84825542],\n",
       "       [31.08735038],\n",
       "       [12.23515756],\n",
       "       [22.56975185],\n",
       "       [33.50776796],\n",
       "       [27.54544899],\n",
       "       [12.89527145],\n",
       "       [20.3339282 ],\n",
       "       [28.32622885],\n",
       "       [26.72208113],\n",
       "       [20.73851413],\n",
       "       [15.04596508],\n",
       "       [22.96728574],\n",
       "       [30.55500047],\n",
       "       [26.17558119],\n",
       "       [27.81517294],\n",
       "       [19.5531943 ],\n",
       "       [32.62761611],\n",
       "       [30.05814055],\n",
       "       [18.84334846],\n",
       "       [30.09363055],\n",
       "       [31.08735038],\n",
       "       [13.94577527],\n",
       "       [17.67217866],\n",
       "       [32.25852017],\n",
       "       [31.15833036],\n",
       "       [23.88292758],\n",
       "       [13.37793536],\n",
       "       [29.13540071],\n",
       "       [29.45481066],\n",
       "       [20.54686816],\n",
       "       [12.22805956],\n",
       "       [28.6385408 ],\n",
       "       [26.50914117],\n",
       "       [28.12038689],\n",
       "       [10.80845981],\n",
       "       [32.47146014],\n",
       "       [26.24294323],\n",
       "       [14.79043712],\n",
       "       [18.66589849],\n",
       "       [ 8.71455017],\n",
       "       [13.52699334],\n",
       "       [16.80622281],\n",
       "       [31.44225031],\n",
       "       [29.13540071],\n",
       "       [28.37234286],\n",
       "       [20.68882814],\n",
       "       [13.1649954 ],\n",
       "       [17.2108547 ],\n",
       "       [12.80299746],\n",
       "       [13.78961929],\n",
       "       [23.51383165],\n",
       "       [32.75538009],\n",
       "       [22.6407778 ],\n",
       "       [29.38383067],\n",
       "       [32.1165602 ],\n",
       "       [22.38524984],\n",
       "       [12.45519552],\n",
       "       [12.17837357],\n",
       "       [13.64765932],\n",
       "       [24.22358556],\n",
       "       [13.38503336],\n",
       "       [28.74501078],\n",
       "       [25.37346136],\n",
       "       [28.35462085],\n",
       "       [29.2134787 ],\n",
       "       [16.53654482],\n",
       "       [27.06988307],\n",
       "       [30.88150841],\n",
       "       [29.67484862],\n",
       "       [32.47146014],\n",
       "       [33.76329591],\n",
       "       [31.96040422],\n",
       "       [23.13763771],\n",
       "       [24.78789945],\n",
       "       [21.19988405],\n",
       "       [27.38929301],\n",
       "       [29.8026126 ],\n",
       "       [29.66775062],\n",
       "       [27.16925505],\n",
       "       [31.33578033],\n",
       "       [22.25038787],\n",
       "       [11.10657576],\n",
       "       [29.13540071],\n",
       "       [29.04312673],\n",
       "       [21.36313802],\n",
       "       [12.76040947],\n",
       "       [31.22931035],\n",
       "       [24.41527749],\n",
       "       [26.8853351 ],\n",
       "       [ 9.04105811],\n",
       "       [22.8536718 ],\n",
       "       [18.75817247],\n",
       "       [29.41222267],\n",
       "       [17.7999886 ],\n",
       "       [31.12284037],\n",
       "       [31.12284037],\n",
       "       [32.18754019],\n",
       "       [24.42947349],\n",
       "       [25.90581127],\n",
       "       [29.56128064],\n",
       "       [25.19605736],\n",
       "       [10.2548159 ],\n",
       "       [29.85229859],\n",
       "       [21.37023602],\n",
       "       [25.65738131],\n",
       "       [28.81599077],\n",
       "       [26.26071121],\n",
       "       [18.24716252],\n",
       "       [18.62331049],\n",
       "       [27.467371  ],\n",
       "       [23.95390757],\n",
       "       [28.53207082],\n",
       "       [29.58257464],\n",
       "       [21.37028198],\n",
       "       [25.90581127],\n",
       "       [29.01116275],\n",
       "       [29.59677063],\n",
       "       [28.39011084],\n",
       "       [13.91028527],\n",
       "       [22.14391789],\n",
       "       [30.12912054],\n",
       "       [27.14796106],\n",
       "       [25.37350733],\n",
       "       [28.88697076],\n",
       "       [14.37875319],\n",
       "       [21.505098  ],\n",
       "       [30.12912054],\n",
       "       [32.0810702 ],\n",
       "       [31.12284037],\n",
       "       [19.58868429],\n",
       "       [31.19382036],\n",
       "       [19.44667835],\n",
       "       [25.7283613 ],\n",
       "       [24.87660145],\n",
       "       [30.09363055],\n",
       "       [27.93583892],\n",
       "       [26.93502109],\n",
       "       [30.41304049],\n",
       "       [12.47648952],\n",
       "       [17.85677259],\n",
       "       [21.87419393],\n",
       "       [26.81435511],\n",
       "       [20.19196822],\n",
       "       [28.88697076],\n",
       "       [23.85453559],\n",
       "       [32.43597014],\n",
       "       [18.99245239],\n",
       "       [12.91656544],\n",
       "       [18.77236847],\n",
       "       [29.68194662],\n",
       "       [17.42379467],\n",
       "       [26.86404111],\n",
       "       [24.85530745],\n",
       "       [29.91618058],\n",
       "       [24.55723747],\n",
       "       [13.49860134],\n",
       "       [15.55702099],\n",
       "       [29.46190866],\n",
       "       [30.66147045],\n",
       "       [16.23842887],\n",
       "       [12.77460547],\n",
       "       [30.55500047],\n",
       "       [22.81822777],\n",
       "       [29.39802667],\n",
       "       [19.81930031],\n",
       "       [32.25852017],\n",
       "       [20.9088661 ],\n",
       "       [30.69696044],\n",
       "       [29.52579065],\n",
       "       [30.23559052],\n",
       "       [23.94680957],\n",
       "       [20.12808623],\n",
       "       [10.2761099 ],\n",
       "       [27.96423092],\n",
       "       [30.83892042],\n",
       "       [11.93704161],\n",
       "       [31.26480034],\n",
       "       [14.9040051 ],\n",
       "       [12.34872554],\n",
       "       [30.23559052],\n",
       "       [29.91618058],\n",
       "       [24.5926815 ],\n",
       "       [23.74096761],\n",
       "       [27.00600108],\n",
       "       [17.35281468],\n",
       "       [26.95631509],\n",
       "       [10.51034386],\n",
       "       [30.87441041],\n",
       "       [13.05142742],\n",
       "       [15.08855307],\n",
       "       [24.06742959],\n",
       "       [30.4733505 ],\n",
       "       [24.39393753],\n",
       "       [28.37591484],\n",
       "       [23.92551558],\n",
       "       [20.85918011],\n",
       "       [23.49253765],\n",
       "       [32.19463818],\n",
       "       [25.40895136],\n",
       "       [ 7.3801264 ],\n",
       "       [14.12322524],\n",
       "       [20.08549824],\n",
       "       [28.14168088],\n",
       "       [27.42478301],\n",
       "       [27.04149107],\n",
       "       [23.35767568],\n",
       "       [26.25361321],\n",
       "       [18.89303445],\n",
       "       [27.72289896],\n",
       "       [28.95795074],\n",
       "       [10.94332179],\n",
       "       [26.50914117],\n",
       "       [14.55620316],\n",
       "       [12.17837357],\n",
       "       [21.11475403],\n",
       "       [29.95167057],\n",
       "       [26.20392722],\n",
       "       [ 8.39514023],\n",
       "       [26.75757112],\n",
       "       [31.24350635],\n",
       "       [26.58012115],\n",
       "       [26.99185105],\n",
       "       [14.30067521],\n",
       "       [29.45481066],\n",
       "       [26.1187972 ],\n",
       "       [22.12262389],\n",
       "       [14.47812517],\n",
       "       [19.51765834],\n",
       "       [29.98716057],\n",
       "       [24.61402146]])"
      ]
     },
     "execution_count": 41,
     "metadata": {},
     "output_type": "execute_result"
    }
   ],
   "source": [
    "y_predict"
   ]
  },
  {
   "cell_type": "code",
   "execution_count": 42,
   "id": "c9e5fbd5",
   "metadata": {},
   "outputs": [
    {
     "data": {
      "text/html": [
       "<div>\n",
       "<style scoped>\n",
       "    .dataframe tbody tr th:only-of-type {\n",
       "        vertical-align: middle;\n",
       "    }\n",
       "\n",
       "    .dataframe tbody tr th {\n",
       "        vertical-align: top;\n",
       "    }\n",
       "\n",
       "    .dataframe thead th {\n",
       "        text-align: right;\n",
       "    }\n",
       "</style>\n",
       "<table border=\"1\" class=\"dataframe\">\n",
       "  <thead>\n",
       "    <tr style=\"text-align: right;\">\n",
       "      <th></th>\n",
       "      <th>mpg</th>\n",
       "    </tr>\n",
       "  </thead>\n",
       "  <tbody>\n",
       "    <tr>\n",
       "      <th>344</th>\n",
       "      <td>7.096380</td>\n",
       "    </tr>\n",
       "    <tr>\n",
       "      <th>187</th>\n",
       "      <td>3.554225</td>\n",
       "    </tr>\n",
       "    <tr>\n",
       "      <th>162</th>\n",
       "      <td>-3.062569</td>\n",
       "    </tr>\n",
       "    <tr>\n",
       "      <th>272</th>\n",
       "      <td>-1.147581</td>\n",
       "    </tr>\n",
       "    <tr>\n",
       "      <th>384</th>\n",
       "      <td>0.735200</td>\n",
       "    </tr>\n",
       "    <tr>\n",
       "      <th>...</th>\n",
       "      <td>...</td>\n",
       "    </tr>\n",
       "    <tr>\n",
       "      <th>155</th>\n",
       "      <td>-7.122624</td>\n",
       "    </tr>\n",
       "    <tr>\n",
       "      <th>223</th>\n",
       "      <td>1.021875</td>\n",
       "    </tr>\n",
       "    <tr>\n",
       "      <th>228</th>\n",
       "      <td>-1.017658</td>\n",
       "    </tr>\n",
       "    <tr>\n",
       "      <th>331</th>\n",
       "      <td>3.812839</td>\n",
       "    </tr>\n",
       "    <tr>\n",
       "      <th>123</th>\n",
       "      <td>-4.614021</td>\n",
       "    </tr>\n",
       "  </tbody>\n",
       "</table>\n",
       "<p>298 rows × 1 columns</p>\n",
       "</div>"
      ],
      "text/plain": [
       "          mpg\n",
       "344  7.096380\n",
       "187  3.554225\n",
       "162 -3.062569\n",
       "272 -1.147581\n",
       "384  0.735200\n",
       "..        ...\n",
       "155 -7.122624\n",
       "223  1.021875\n",
       "228 -1.017658\n",
       "331  3.812839\n",
       "123 -4.614021\n",
       "\n",
       "[298 rows x 1 columns]"
      ]
     },
     "execution_count": 42,
     "metadata": {},
     "output_type": "execute_result"
    }
   ],
   "source": [
    "y_result= Y_train- y_predict\n",
    "y_result"
   ]
  },
  {
   "cell_type": "code",
   "execution_count": 43,
   "id": "f3d36e23",
   "metadata": {},
   "outputs": [
    {
     "data": {
      "text/plain": [
       "0.6834321579001366"
      ]
     },
     "execution_count": 43,
     "metadata": {},
     "output_type": "execute_result"
    }
   ],
   "source": [
    "lr.score(X_train, Y_train)"
   ]
  },
  {
   "cell_type": "code",
   "execution_count": null,
   "id": "af6b878a",
   "metadata": {},
   "outputs": [],
   "source": []
  }
 ],
 "metadata": {
  "kernelspec": {
   "display_name": "Python 3",
   "language": "python",
   "name": "python3"
  },
  "language_info": {
   "codemirror_mode": {
    "name": "ipython",
    "version": 3
   },
   "file_extension": ".py",
   "mimetype": "text/x-python",
   "name": "python",
   "nbconvert_exporter": "python",
   "pygments_lexer": "ipython3",
   "version": "3.6.4"
  }
 },
 "nbformat": 4,
 "nbformat_minor": 5
}
