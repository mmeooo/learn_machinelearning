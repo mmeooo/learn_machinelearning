{
 "cells": [
  {
   "cell_type": "code",
   "execution_count": null,
   "id": "335b3551",
   "metadata": {},
   "outputs": [],
   "source": [
    ">>> data = [[0, 0], [0, 0], [1, 1], [1, 1]"
   ]
  },
  {
   "cell_type": "code",
   "execution_count": 1,
   "id": "8fe2e59a",
   "metadata": {},
   "outputs": [],
   "source": [
    ">>> from sklearn.preprocessing import StandardScaler\n",
    ">>> scaler = StandardScaler()"
   ]
  },
  {
   "cell_type": "code",
   "execution_count": 2,
   "id": "79cb3f26",
   "metadata": {},
   "outputs": [
    {
     "name": "stdout",
     "output_type": "stream",
     "text": [
      "StandardScaler()\n"
     ]
    }
   ],
   "source": [
    ">>> print(scaler.fit(data))  # 표준 정규분포 만들기"
   ]
  },
  {
   "cell_type": "code",
   "execution_count": 3,
   "id": "e982d0fb",
   "metadata": {},
   "outputs": [
    {
     "name": "stdout",
     "output_type": "stream",
     "text": [
      "[0.5 0.5]\n"
     ]
    }
   ],
   "source": [
    ">>> print(scaler.mean_)"
   ]
  },
  {
   "cell_type": "code",
   "execution_count": 4,
   "id": "f7ff8e92",
   "metadata": {},
   "outputs": [
    {
     "name": "stdout",
     "output_type": "stream",
     "text": [
      "[[-1. -1.]\n",
      " [-1. -1.]\n",
      " [ 1.  1.]\n",
      " [ 1.  1.]]\n"
     ]
    }
   ],
   "source": [
    ">>> print(scaler.transform(data))"
   ]
  },
  {
   "cell_type": "code",
   "execution_count": 5,
   "id": "ee1e44b6",
   "metadata": {},
   "outputs": [
    {
     "name": "stdout",
     "output_type": "stream",
     "text": [
      "[[3. 3.]]\n"
     ]
    }
   ],
   "source": [
    ">>> print(scaler.transform([[2, 2]]))"
   ]
  }
 ],
 "metadata": {
  "kernelspec": {
   "display_name": "Python 3",
   "language": "python",
   "name": "python3"
  },
  "language_info": {
   "codemirror_mode": {
    "name": "ipython",
    "version": 3
   },
   "file_extension": ".py",
   "mimetype": "text/x-python",
   "name": "python",
   "nbconvert_exporter": "python",
   "pygments_lexer": "ipython3",
   "version": "3.6.4"
  }
 },
 "nbformat": 4,
 "nbformat_minor": 5
}
