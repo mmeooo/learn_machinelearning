{
 "cells": [
  {
   "cell_type": "code",
   "execution_count": 24,
   "metadata": {
    "colab": {
     "base_uri": "https://localhost:8080/"
    },
    "id": "DBLAOJ_4mPB3",
    "outputId": "8f261b13-cae6-463c-eb51-976c6e86e4a3"
   },
   "outputs": [
    {
     "name": "stdout",
     "output_type": "stream",
     "text": [
      "ls: cannot access './autompg_lr.pkl': No such file or directory\n"
     ]
    }
   ],
   "source": [
    "!ls -l ./autompg_lr.pkl"
   ]
  },
  {
   "cell_type": "markdown",
   "metadata": {
    "id": "8Ejg0y6EnV8Z"
   },
   "source": [
    "## load pickle with xgboost and scaler"
   ]
  },
  {
   "cell_type": "code",
   "execution_count": 24,
   "metadata": {
    "id": "cJfGhlEI7ePs"
   },
   "outputs": [],
   "source": [
    ""
   ]
  },
  {
   "cell_type": "code",
   "execution_count": 25,
   "metadata": {
    "colab": {
     "base_uri": "https://localhost:8080/"
    },
    "id": "i6PX5hJam3iF",
    "outputId": "07d31ff8-a783-47c1-ca1a-117752bc83a0"
   },
   "outputs": [
    {
     "name": "stdout",
     "output_type": "stream",
     "text": [
      "[08:50:55] WARNING: /workspace/src/objective/regression_obj.cu:152: reg:linear is now deprecated in favor of reg:squarederror.\n"
     ]
    },
    {
     "data": {
      "text/plain": [
       "xgboost.sklearn.XGBRegressor"
      ]
     },
     "execution_count": 25,
     "metadata": {
      "tags": []
     },
     "output_type": "execute_result"
    }
   ],
   "source": [
    "import pickle\n",
    "lr= pickle.load(open('./xgb_model.pkl', 'rb')) \n",
    "#바이너리 파일이라 rb \n",
    "type(lr)"
   ]
  },
  {
   "cell_type": "code",
   "execution_count": 26,
   "metadata": {
    "colab": {
     "base_uri": "https://localhost:8080/"
    },
    "id": "JO99Ls3P-E4Z",
    "outputId": "1e3227b3-b44b-4ca4-98e2-42f735f2c6dd"
   },
   "outputs": [
    {
     "data": {
      "text/plain": [
       "sklearn.preprocessing._data.StandardScaler"
      ]
     },
     "execution_count": 26,
     "metadata": {
      "tags": []
     },
     "output_type": "execute_result"
    }
   ],
   "source": [
    "scaler= pickle.load(open('./scaler_xgb.pkl', 'rb'))\n",
    "type(scaler)"
   ]
  },
  {
   "cell_type": "markdown",
   "metadata": {
    "id": "4S5dDz7Y_3_6"
   },
   "source": [
    "## Predict"
   ]
  },
  {
   "cell_type": "code",
   "execution_count": 27,
   "metadata": {
    "id": "0w3VxCoVCLvy"
   },
   "outputs": [],
   "source": [
    "displacement= 307.0\n",
    "horsepower= 130.0\n",
    "weight= 3504.0\n",
    "accel= 12.0\n",
    "\n",
    "origin= 1\n",
    "cylinders= 8\n",
    "# origin-> 1,2,3  cylinders-> 3,4,5,6,8\n",
    "\n",
    "if cylinders == 3:\n",
    "  cylinder= [1,0,0,0,0]\n",
    "elif cylinders == 4:\n",
    "  cylinder= [0,1,0,0,0]\n",
    "elif cylinders == 5:\n",
    "  cylinder= [0,0,1,0,0]\n",
    "elif cylinders == 6:\n",
    "  cylinder= [0,0,0,1,0]\n",
    "elif cylinders == 8:\n",
    "  cylinder= [0,0,0,0,1]\n",
    "\n",
    "if origin == 1:\n",
    "  org= [1,0,0]\n",
    "elif origin == 2:\n",
    "  org= [0,1,0]\n",
    "elif origins == 3:\n",
    "  org= [0,0,1]\n",
    "\n",
    "# x_custmer = [[displacement, horsepower, weight, accel, origin, cylinders]]\n",
    "# 순서 맞추기\n",
    "x_custmer = [[displacement, horsepower, weight, accel, cylinder, org]]\n",
    " \n"
   ]
  },
  {
   "cell_type": "code",
   "execution_count": 28,
   "metadata": {
    "colab": {
     "base_uri": "https://localhost:8080/"
    },
    "id": "-mevA8O8shCt",
    "outputId": "1b6b67ce-0970-4858-c3e4-ee7fcb273fda"
   },
   "outputs": [
    {
     "data": {
      "text/plain": [
       "(1, 12)"
      ]
     },
     "execution_count": 28,
     "metadata": {
      "tags": []
     },
     "output_type": "execute_result"
    }
   ],
   "source": [
    "x_custmer= scaler.transform([[307.0, 130.0, 3504.0, 12.0,   0,0,0,0,1,   1,0,0 ]])\n",
    "x_custmer.shape"
   ]
  },
  {
   "cell_type": "code",
   "execution_count": 28,
   "metadata": {
    "id": "3_Kqr883rpfk"
   },
   "outputs": [],
   "source": [
    ""
   ]
  },
  {
   "cell_type": "code",
   "execution_count": 28,
   "metadata": {
    "id": "lG1YXPYQDBP1"
   },
   "outputs": [],
   "source": [
    ""
   ]
  }
 ],
 "metadata": {
  "colab": {
   "authorship_tag": "ABX9TyOX2Q3BUvym3e31+UnzTgLR",
   "collapsed_sections": [],
   "name": "autompg_xgboost_service.ipynb",
   "provenance": []
  },
  "kernelspec": {
   "display_name": "Python 3",
   "name": "python3"
  },
  "language_info": {
   "name": "python"
  }
 },
 "nbformat": 4,
 "nbformat_minor": 0
}
