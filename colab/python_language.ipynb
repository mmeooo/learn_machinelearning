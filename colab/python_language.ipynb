{
 "cells": [
  {
   "cell_type": "code",
   "execution_count": 1,
   "metadata": {
    "id": "NK51pZtoTOR-"
   },
   "outputs": [],
   "source": [
    "import numpy as np"
   ]
  },
  {
   "cell_type": "code",
   "execution_count": 2,
   "metadata": {
    "colab": {
     "base_uri": "https://localhost:8080/",
     "height": 35
    },
    "id": "02-Cpi_yVXHQ",
    "outputId": "f61a3dc9-7ceb-4576-8621-a589d4d4af8b"
   },
   "outputs": [
    {
     "data": {
      "application/vnd.google.colaboratory.intrinsic+json": {
       "type": "string"
      },
      "text/plain": [
       "'1.19.5'"
      ]
     },
     "execution_count": 2,
     "metadata": {
      "tags": []
     },
     "output_type": "execute_result"
    }
   ],
   "source": [
    "np.__version__\n",
    "# 패키지의 버전 확인. '__'-> 내장변수"
   ]
  },
  {
   "cell_type": "code",
   "execution_count": 8,
   "metadata": {
    "id": "ajlZ9zQLVrKQ"
   },
   "outputs": [],
   "source": [
    "displacement= 307.0\n",
    "horsepower= 130.0\n",
    "weight= 3504.0\n",
    "accel= 12.0\n",
    "\n",
    "# cylinder= 8, org= 1 -> onehot encoding\n",
    "\n",
    "if cylinders == 3:\n",
    "  cylinder= [1,0,0,0,0]\n",
    "elif cylinders == 4:\n",
    "  cylinder= [0,1,0,0,0]\n",
    "elif cylinders == 5:\n",
    "  cylinder= [0,0,1,0,0]\n",
    "elif cylinders == 6:\n",
    "  cylinder= [0,0,0,1,0]\n",
    "elif cylinders == 8:\n",
    "  cylinder= [0,0,0,0,1]\n",
    "\n",
    "\n",
    "x_continus= np.array([displacement, horsepower, weight, accel])\n",
    "cylinder= np.array([0,0,0,0,1]) \n",
    "org= np.array([1,0,0])"
   ]
  },
  {
   "cell_type": "code",
   "execution_count": 9,
   "metadata": {
    "colab": {
     "base_uri": "https://localhost:8080/"
    },
    "id": "jz2IbW49XEXv",
    "outputId": "50ecee61-01fa-47b8-c7f8-2819f8fb5974"
   },
   "outputs": [
    {
     "data": {
      "text/plain": [
       "numpy.ndarray"
      ]
     },
     "execution_count": 9,
     "metadata": {
      "tags": []
     },
     "output_type": "execute_result"
    }
   ],
   "source": [
    "type(x_continus)"
   ]
  },
  {
   "cell_type": "code",
   "execution_count": 15,
   "metadata": {
    "id": "F92y9c2QXf9B"
   },
   "outputs": [],
   "source": [
    "# np.concatenate((a, b), axis=None) 이어 붙이기\n",
    "result= np.concatenate((x_continus, cylinder, org), axis=None)"
   ]
  },
  {
   "cell_type": "code",
   "execution_count": 17,
   "metadata": {
    "colab": {
     "base_uri": "https://localhost:8080/"
    },
    "id": "5pjPwxWsZIiF",
    "outputId": "1f18b4c5-d7dc-4279-e6f4-c0e702969ba4"
   },
   "outputs": [
    {
     "data": {
      "text/plain": [
       "((12,),\n",
       " array([3.070e+02, 1.300e+02, 3.504e+03, 1.200e+01, 0.000e+00, 0.000e+00,\n",
       "        0.000e+00, 0.000e+00, 1.000e+00, 1.000e+00, 0.000e+00, 0.000e+00]))"
      ]
     },
     "execution_count": 17,
     "metadata": {
      "tags": []
     },
     "output_type": "execute_result"
    }
   ],
   "source": [
    "result.shape, result # 12행"
   ]
  },
  {
   "cell_type": "code",
   "execution_count": 21,
   "metadata": {
    "colab": {
     "base_uri": "https://localhost:8080/"
    },
    "id": "DOs3BxwdaiTy",
    "outputId": "53350d5d-1875-4d9f-c6f2-fcc84b3378fb"
   },
   "outputs": [
    {
     "data": {
      "text/plain": [
       "(array([[3.070e+02, 1.300e+02, 3.504e+03, 1.200e+01, 0.000e+00, 0.000e+00,\n",
       "         0.000e+00, 0.000e+00, 1.000e+00, 1.000e+00, 0.000e+00, 0.000e+00]]),\n",
       " (1, 12))"
      ]
     },
     "execution_count": 21,
     "metadata": {
      "tags": []
     },
     "output_type": "execute_result"
    }
   ],
   "source": [
    "# result.reshape(1, 12) # hard coding (행 수, 열 수)\n",
    "result= result.reshape(-1, result.size) # soft coding 컬럼의 수가 바뀔 수 있음 \n",
    "result, result.shape"
   ]
  },
  {
   "cell_type": "markdown",
   "metadata": {
    "id": "cBFOrCWGi5_E"
   },
   "source": [
    "### function 이해"
   ]
  },
  {
   "cell_type": "code",
   "execution_count": 24,
   "metadata": {
    "id": "UBFqa8DxbAMM"
   },
   "outputs": [],
   "source": [
    "def sum():\n",
    "  first= 21\n",
    "  second= 14\n",
    "  result= first + second\n",
    "  return result"
   ]
  },
  {
   "cell_type": "code",
   "execution_count": 25,
   "metadata": {
    "colab": {
     "base_uri": "https://localhost:8080/"
    },
    "id": "ijYs99r5jH9B",
    "outputId": "507b9f2d-f589-46aa-94db-b2873202b353"
   },
   "outputs": [
    {
     "data": {
      "text/plain": [
       "35"
      ]
     },
     "execution_count": 25,
     "metadata": {
      "tags": []
     },
     "output_type": "execute_result"
    }
   ],
   "source": [
    "sum()"
   ]
  },
  {
   "cell_type": "code",
   "execution_count": 26,
   "metadata": {
    "id": "JjClXDaRnK0H"
   },
   "outputs": [],
   "source": [
    "def sum(f1, s2):\n",
    "  first= f1 \n",
    "  second= s2\n",
    "  result= first + second\n",
    "  return result"
   ]
  },
  {
   "cell_type": "code",
   "execution_count": 32,
   "metadata": {
    "id": "30Dz8D_8w8Ea"
   },
   "outputs": [],
   "source": [
    "# def differenceVars(*var1, **args2):\n",
    "def diffparam(*var_list, **var_dict):\n",
    "  print(var_dict)\n",
    "  result1= len(var_list)\n",
    "  return result1"
   ]
  },
  {
   "cell_type": "code",
   "execution_count": 34,
   "metadata": {
    "colab": {
     "base_uri": "https://localhost:8080/"
    },
    "id": "aA2WbkdTzm8-",
    "outputId": "e8c0c753-c186-4846-c784-ff832d00f049"
   },
   "outputs": [
    {
     "name": "stdout",
     "output_type": "stream",
     "text": [
      "{'a': 2, 'b': 3}\n"
     ]
    },
    {
     "data": {
      "text/plain": [
       "3"
      ]
     },
     "execution_count": 34,
     "metadata": {
      "tags": []
     },
     "output_type": "execute_result"
    }
   ],
   "source": [
    "diffparam(1, 2, 3, a=2, b=3) # 키 없는 값은 알아서 리스트"
   ]
  },
  {
   "cell_type": "code",
   "execution_count": 36,
   "metadata": {
    "colab": {
     "base_uri": "https://localhost:8080/"
    },
    "id": "5TRICS3uzqTS",
    "outputId": "2f0cab0f-107c-45da-964b-28deb5fd8bc4"
   },
   "outputs": [
    {
     "name": "stdout",
     "output_type": "stream",
     "text": [
      "{'c': 5, 'd': 6, 'a': 2, 'b': 3}\n"
     ]
    },
    {
     "data": {
      "text/plain": [
       "5"
      ]
     },
     "execution_count": 36,
     "metadata": {
      "tags": []
     },
     "output_type": "execute_result"
    }
   ],
   "source": [
    "diffparam(1, 2, 3, 4, 5, c=5, d=6, a=2,b=3)"
   ]
  },
  {
   "cell_type": "code",
   "execution_count": 37,
   "metadata": {
    "id": "Y68h5Y8pz-eL"
   },
   "outputs": [],
   "source": [
    "def onehotcylinder(cylinders):\n",
    "  if cylinders == 3:\n",
    "    cylinder= [1,0,0,0,0]\n",
    "  elif cylinders == 4:\n",
    "    cylinder= [0,1,0,0,0]\n",
    "  elif cylinders == 5:\n",
    "    cylinder= [0,0,1,0,0]\n",
    "  elif cylinders == 6:\n",
    "    cylinder= [0,0,0,1,0]\n",
    "  elif cylinders == 8:\n",
    "    cylinder= [0,0,0,0,1]\n",
    "\n",
    "  return cylinder"
   ]
  },
  {
   "cell_type": "code",
   "execution_count": 39,
   "metadata": {
    "colab": {
     "base_uri": "https://localhost:8080/"
    },
    "id": "vU-ubhO53Ryy",
    "outputId": "73e992a1-3c6f-4ea0-a95e-68b2d541b91f"
   },
   "outputs": [
    {
     "data": {
      "text/plain": [
       "([0, 1, 0, 0, 0], [0, 0, 0, 1, 0])"
      ]
     },
     "execution_count": 39,
     "metadata": {
      "tags": []
     },
     "output_type": "execute_result"
    }
   ],
   "source": [
    "onehotcylinder(4), onehotcylinder(6)"
   ]
  },
  {
   "cell_type": "code",
   "execution_count": 40,
   "metadata": {
    "colab": {
     "base_uri": "https://localhost:8080/",
     "height": 205
    },
    "id": "9INUTJCC3XDi",
    "outputId": "6cdcda72-fa4b-4efd-f6e3-5c87f09fd861"
   },
   "outputs": [
    {
     "ename": "NameError",
     "evalue": "ignored",
     "output_type": "error",
     "traceback": [
      "\u001b[0;31m---------------------------------------------------------------------------\u001b[0m",
      "\u001b[0;31mNameError\u001b[0m                                 Traceback (most recent call last)",
      "\u001b[0;32m<ipython-input-40-8453336b1335>\u001b[0m in \u001b[0;36m<module>\u001b[0;34m()\u001b[0m\n\u001b[1;32m      1\u001b[0m \u001b[0mx_continus\u001b[0m\u001b[0;34m=\u001b[0m \u001b[0mnp\u001b[0m\u001b[0;34m.\u001b[0m\u001b[0marray\u001b[0m\u001b[0;34m(\u001b[0m\u001b[0;34m[\u001b[0m\u001b[0mdisplacement\u001b[0m\u001b[0;34m,\u001b[0m \u001b[0mhorsepower\u001b[0m\u001b[0;34m,\u001b[0m \u001b[0mweight\u001b[0m\u001b[0;34m,\u001b[0m \u001b[0maccel\u001b[0m\u001b[0;34m]\u001b[0m\u001b[0;34m)\u001b[0m\u001b[0;34m\u001b[0m\u001b[0;34m\u001b[0m\u001b[0m\n\u001b[0;32m----> 2\u001b[0;31m \u001b[0mcylinder\u001b[0m\u001b[0;34m=\u001b[0m \u001b[0monehotcylinder\u001b[0m\u001b[0;34m(\u001b[0m\u001b[0mcylinders\u001b[0m\u001b[0;34m)\u001b[0m\u001b[0;34m\u001b[0m\u001b[0;34m\u001b[0m\u001b[0m\n\u001b[0m\u001b[1;32m      3\u001b[0m \u001b[0morg\u001b[0m\u001b[0;34m=\u001b[0m \u001b[0mnp\u001b[0m\u001b[0;34m.\u001b[0m\u001b[0marray\u001b[0m\u001b[0;34m(\u001b[0m\u001b[0;34m[\u001b[0m\u001b[0;36m1\u001b[0m\u001b[0;34m,\u001b[0m\u001b[0;36m0\u001b[0m\u001b[0;34m,\u001b[0m\u001b[0;36m0\u001b[0m\u001b[0;34m]\u001b[0m\u001b[0;34m)\u001b[0m\u001b[0;34m\u001b[0m\u001b[0;34m\u001b[0m\u001b[0m\n",
      "\u001b[0;31mNameError\u001b[0m: name 'cylinders' is not defined"
     ]
    }
   ],
   "source": [
    "x_continus= np.array([displacement, horsepower, weight, accel])\n",
    "cylinder= onehotcylinder(cylinders)\n",
    "org= np.array([1,0,0])"
   ]
  },
  {
   "cell_type": "code",
   "execution_count": null,
   "metadata": {
    "id": "vzQmDnba37XW"
   },
   "outputs": [],
   "source": [
    ""
   ]
  }
 ],
 "metadata": {
  "colab": {
   "authorship_tag": "ABX9TyO2fq3h/3pvzZdl5pXl0Cg3",
   "collapsed_sections": [],
   "name": "python_language.ipynb",
   "provenance": []
  },
  "kernelspec": {
   "display_name": "Python 3",
   "name": "python3"
  },
  "language_info": {
   "name": "python"
  }
 },
 "nbformat": 4,
 "nbformat_minor": 0
}
