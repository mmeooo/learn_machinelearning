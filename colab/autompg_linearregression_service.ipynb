{
 "cells": [
  {
   "cell_type": "code",
   "execution_count": 30,
   "metadata": {
    "colab": {
     "base_uri": "https://localhost:8080/"
    },
    "id": "DBLAOJ_4mPB3",
    "outputId": "ea7cb385-b5c5-4f07-f57a-feea5d82479e"
   },
   "outputs": [
    {
     "name": "stdout",
     "output_type": "stream",
     "text": [
      "-rw-r--r-- 1 root root 567 Jul  6 02:17 ./autompg_lr.pkl\n"
     ]
    }
   ],
   "source": [
    "!ls -l ./autompg_lr.pkl"
   ]
  },
  {
   "cell_type": "markdown",
   "metadata": {
    "id": "8Ejg0y6EnV8Z"
   },
   "source": [
    "## load pickle with linear regression and scaler"
   ]
  },
  {
   "cell_type": "code",
   "execution_count": 31,
   "metadata": {
    "colab": {
     "base_uri": "https://localhost:8080/"
    },
    "id": "i6PX5hJam3iF",
    "outputId": "9f4d81ef-bcec-448c-809b-de7481943ce6"
   },
   "outputs": [
    {
     "data": {
      "text/plain": [
       "sklearn.linear_model._base.LinearRegression"
      ]
     },
     "execution_count": 31,
     "metadata": {
      "tags": []
     },
     "output_type": "execute_result"
    }
   ],
   "source": [
    "import pickle\n",
    "lr= pickle.load(open('./autompg_lr.pkl', 'rb')) \n",
    "#바이너리 파일이라 rb \n",
    "type(lr)"
   ]
  },
  {
   "cell_type": "code",
   "execution_count": 32,
   "metadata": {
    "colab": {
     "base_uri": "https://localhost:8080/"
    },
    "id": "JO99Ls3P-E4Z",
    "outputId": "31b921fd-174f-4892-a941-414a4b1816b0"
   },
   "outputs": [
    {
     "data": {
      "text/plain": [
       "sklearn.linear_model._base.LinearRegression"
      ]
     },
     "execution_count": 32,
     "metadata": {
      "tags": []
     },
     "output_type": "execute_result"
    }
   ],
   "source": [
    "scaler= pickle.load(open('./autompg_lr.pkl', 'rb'))\n",
    "type(scaler)"
   ]
  },
  {
   "cell_type": "markdown",
   "metadata": {
    "id": "4S5dDz7Y_3_6"
   },
   "source": [
    "## Predict with Linear Regression"
   ]
  },
  {
   "cell_type": "code",
   "execution_count": 33,
   "metadata": {
    "id": "0w3VxCoVCLvy"
   },
   "outputs": [],
   "source": [
    "displacement= 307.0\n",
    "horsepower= 130.0\n",
    "weight= 3504.0\n",
    "accel= 12.0\n",
    "x_custmer = [[displacement, horsepower, weight, accel]]\n",
    "#[[307.0,130.0,3504.0,12.0]]"
   ]
  },
  {
   "cell_type": "code",
   "execution_count": 34,
   "metadata": {
    "colab": {
     "base_uri": "https://localhost:8080/",
     "height": 188
    },
    "id": "-mevA8O8shCt",
    "outputId": "7bf2f3e3-cfa6-475c-d676-2d24924990c0"
   },
   "outputs": [
    {
     "ename": "AttributeError",
     "evalue": "ignored",
     "output_type": "error",
     "traceback": [
      "\u001b[0;31m---------------------------------------------------------------------------\u001b[0m",
      "\u001b[0;31mAttributeError\u001b[0m                            Traceback (most recent call last)",
      "\u001b[0;32m<ipython-input-34-c41ca77dad2a>\u001b[0m in \u001b[0;36m<module>\u001b[0;34m()\u001b[0m\n\u001b[0;32m----> 1\u001b[0;31m \u001b[0mx_custmer\u001b[0m \u001b[0;34m=\u001b[0m \u001b[0mscaler\u001b[0m\u001b[0;34m.\u001b[0m\u001b[0mtransform\u001b[0m\u001b[0;34m(\u001b[0m\u001b[0mx_custmer\u001b[0m\u001b[0;34m)\u001b[0m\u001b[0;34m\u001b[0m\u001b[0;34m\u001b[0m\u001b[0m\n\u001b[0m\u001b[1;32m      2\u001b[0m \u001b[0mx_customer\u001b[0m\u001b[0;34m.\u001b[0m\u001b[0mshape\u001b[0m\u001b[0;34m\u001b[0m\u001b[0;34m\u001b[0m\u001b[0m\n",
      "\u001b[0;31mAttributeError\u001b[0m: 'LinearRegression' object has no attribute 'transform'"
     ]
    }
   ],
   "source": [
    "x_custmer = scaler.transform(x_custmer)\n",
    "x_customer.shape"
   ]
  },
  {
   "cell_type": "code",
   "execution_count": null,
   "metadata": {
    "id": "3_Kqr883rpfk"
   },
   "outputs": [],
   "source": [
    "result= lr.predict(x_customer)\n",
    "result[0]"
   ]
  },
  {
   "cell_type": "code",
   "execution_count": null,
   "metadata": {
    "id": "lG1YXPYQDBP1"
   },
   "outputs": [],
   "source": [
    ""
   ]
  }
 ],
 "metadata": {
  "colab": {
   "authorship_tag": "ABX9TyNs/X2Uesbw/IdceblesUJ9",
   "name": "autompg_linearregression_service.ipynb",
   "provenance": []
  },
  "kernelspec": {
   "display_name": "Python 3",
   "name": "python3"
  },
  "language_info": {
   "name": "python"
  }
 },
 "nbformat": 4,
 "nbformat_minor": 0
}
